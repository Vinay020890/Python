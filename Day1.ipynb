{
  "nbformat": 4,
  "nbformat_minor": 0,
  "metadata": {
    "colab": {
      "provenance": []
    },
    "kernelspec": {
      "name": "python3",
      "display_name": "Python 3"
    },
    "language_info": {
      "name": "python"
    }
  },
  "cells": [
    {
      "cell_type": "markdown",
      "source": [
        "# Programming Lanaguage\n",
        "\n",
        "- Programming is the process of giving Instructions to computerto perform specific task\n",
        "\n",
        "# Algorithms -\n",
        "- A step by step  procedure to solve a problem\n",
        "\n",
        "# syntax -\n",
        "- The rules or structure of programming language\n",
        "\n",
        "#Variable -\n",
        "- Container that store data\n",
        "\n",
        "#Data Types -\n",
        "- Type of vales that stored\n",
        "- Int x= 5\n",
        "- Float x = 0.5\n",
        "- String x = \"tushar\"\n",
        "- Bool x = True/False\n",
        "- Complex = x = 1 + 3j\n",
        "\n",
        "\n",
        "#operators\n",
        "- All symbols\n",
        "\n",
        "# Conditional Statement\n",
        "\n",
        "- Decision Mking - IF ELSE ELIF\n",
        "\n",
        "#Loops\n",
        "\n",
        "- Repeatating Taks - FOR & WHILE\n",
        "\n",
        "# FUNCTTION -\n",
        "- Reusable block of Codes - buildin/userdefine\n",
        "\n",
        "#Compiler-\n",
        "- code transalated to machine lnguage (010101010)\n",
        "\n",
        "#Interpreted Language\n",
        "\n",
        "- Code is executed line by line\n",
        "- Python, JavaScript\n",
        "\n",
        "#Python\n",
        "- Python is high level, Interpreted and general purpose programming language\n",
        "\n",
        "- It is widely used for Webdevelopment, App development, Automtion, Data Analysis, Data Science, & AI\n",
        "\n",
        "- Easy to learn and use - Simple syntax similer to english\n",
        "\n",
        "\n",
        "\n",
        "\n"
      ],
      "metadata": {
        "id": "6xvMncSAihBS"
      }
    },
    {
      "cell_type": "code",
      "execution_count": 1,
      "metadata": {
        "colab": {
          "base_uri": "https://localhost:8080/"
        },
        "id": "9C1xOxqwiIR9",
        "outputId": "d4f6ce5d-d8e2-4f9f-a3ce-adfcc671e351"
      },
      "outputs": [
        {
          "output_type": "stream",
          "name": "stdout",
          "text": [
            "Hello World\n"
          ]
        }
      ],
      "source": [
        "print(\"Hello World\")"
      ]
    },
    {
      "cell_type": "markdown",
      "source": [
        "# VERSATILE\n",
        "- web, app, da, ds, ai\n",
        "\n",
        "#huge community support -\n",
        "\n",
        "#cross platform\n",
        "\n",
        "#libraries & framework\n",
        "\n",
        "\n",
        "#Moule -\n",
        "-Afile contatinngin set of code\n",
        "\n",
        "- buildin module - ( random, math, OS )\n",
        "\n",
        "- user define\n",
        "\n",
        "- external modules - install & import\n",
        "like - numpy, pandas\n",
        "\n",
        "!pip install pandas\n",
        "\n",
        "#IDE -\n",
        "python, vs code, jupyter notebook,\n",
        "spyder\n",
        "anaconda\n",
        "google colab\n",
        "\n",
        "#python is case sensetive"
      ],
      "metadata": {
        "id": "0QUMcmGam27g"
      }
    },
    {
      "cell_type": "markdown",
      "source": [
        "# Data Type"
      ],
      "metadata": {
        "id": "vjAmB3-wpd5H"
      }
    },
    {
      "cell_type": "code",
      "source": [
        "#single line comments"
      ],
      "metadata": {
        "id": "5Fvwoye5lrIR"
      },
      "execution_count": 2,
      "outputs": []
    },
    {
      "cell_type": "code",
      "source": [
        "''' multiple\n",
        "line\n",
        "comment\n",
        "'''"
      ],
      "metadata": {
        "colab": {
          "base_uri": "https://localhost:8080/",
          "height": 36
        },
        "id": "TornEbcZplA-",
        "outputId": "4e00a12e-e937-4a8c-edb1-f503e5b63ae4"
      },
      "execution_count": 3,
      "outputs": [
        {
          "output_type": "execute_result",
          "data": {
            "text/plain": [
              "' multiple\\nline\\ncomment\\n'"
            ],
            "application/vnd.google.colaboratory.intrinsic+json": {
              "type": "string"
            }
          },
          "metadata": {},
          "execution_count": 3
        }
      ]
    },
    {
      "cell_type": "code",
      "source": [
        "#int"
      ],
      "metadata": {
        "id": "WT1epUpopp-k"
      },
      "execution_count": 4,
      "outputs": []
    },
    {
      "cell_type": "code",
      "source": [
        "a = 10"
      ],
      "metadata": {
        "id": "4W6pusL2p2bo"
      },
      "execution_count": 5,
      "outputs": []
    },
    {
      "cell_type": "code",
      "source": [
        "10"
      ],
      "metadata": {
        "colab": {
          "base_uri": "https://localhost:8080/"
        },
        "id": "oHbiWaWJp3t9",
        "outputId": "54b7b49e-0465-4821-cef1-70a8d5987b49"
      },
      "execution_count": 6,
      "outputs": [
        {
          "output_type": "execute_result",
          "data": {
            "text/plain": [
              "10"
            ]
          },
          "metadata": {},
          "execution_count": 6
        }
      ]
    },
    {
      "cell_type": "code",
      "source": [
        "print(a)"
      ],
      "metadata": {
        "colab": {
          "base_uri": "https://localhost:8080/"
        },
        "id": "OGISIMtQp65q",
        "outputId": "c424a2b2-9b6b-49db-e238-c538e0464790"
      },
      "execution_count": 8,
      "outputs": [
        {
          "output_type": "stream",
          "name": "stdout",
          "text": [
            "10\n"
          ]
        }
      ]
    },
    {
      "cell_type": "code",
      "source": [
        "a"
      ],
      "metadata": {
        "colab": {
          "base_uri": "https://localhost:8080/"
        },
        "id": "An_YV5pfp-oP",
        "outputId": "2b9cca2e-53d0-42b9-96e0-2388d0e78b1d"
      },
      "execution_count": 9,
      "outputs": [
        {
          "output_type": "execute_result",
          "data": {
            "text/plain": [
              "10"
            ]
          },
          "metadata": {},
          "execution_count": 9
        }
      ]
    },
    {
      "cell_type": "code",
      "source": [
        "a = 10\n",
        "b = -25"
      ],
      "metadata": {
        "id": "MoWbmyPYqBEN"
      },
      "execution_count": 10,
      "outputs": []
    },
    {
      "cell_type": "code",
      "source": [
        "#how to check ??\n"
      ],
      "metadata": {
        "id": "tGp9hq8bqJ2R"
      },
      "execution_count": 11,
      "outputs": []
    },
    {
      "cell_type": "code",
      "source": [
        "type(a)    #type() is a method"
      ],
      "metadata": {
        "colab": {
          "base_uri": "https://localhost:8080/"
        },
        "id": "WpLe-NvnqNay",
        "outputId": "15aef3bf-f2d0-47fd-dd1a-0c693379ca67"
      },
      "execution_count": 12,
      "outputs": [
        {
          "output_type": "execute_result",
          "data": {
            "text/plain": [
              "int"
            ]
          },
          "metadata": {},
          "execution_count": 12
        }
      ]
    },
    {
      "cell_type": "code",
      "source": [
        "print(type(a))"
      ],
      "metadata": {
        "colab": {
          "base_uri": "https://localhost:8080/"
        },
        "id": "gNV3AA6ZqObu",
        "outputId": "90bc015c-23fd-407c-c66b-14901b6d14fc"
      },
      "execution_count": 13,
      "outputs": [
        {
          "output_type": "stream",
          "name": "stdout",
          "text": [
            "<class 'int'>\n"
          ]
        }
      ]
    },
    {
      "cell_type": "code",
      "source": [
        "#Float"
      ],
      "metadata": {
        "id": "BdiCgKeDqefo"
      },
      "execution_count": 14,
      "outputs": []
    },
    {
      "cell_type": "code",
      "source": [
        "a = 10.5\n",
        "b = 15.8"
      ],
      "metadata": {
        "id": "MvRu-M-Yqqhi"
      },
      "execution_count": 15,
      "outputs": []
    },
    {
      "cell_type": "code",
      "source": [
        "a"
      ],
      "metadata": {
        "colab": {
          "base_uri": "https://localhost:8080/"
        },
        "id": "CV4l5noKqs97",
        "outputId": "87b48bec-4750-4e4f-9e72-ca2da2439a9a"
      },
      "execution_count": 16,
      "outputs": [
        {
          "output_type": "execute_result",
          "data": {
            "text/plain": [
              "10.5"
            ]
          },
          "metadata": {},
          "execution_count": 16
        }
      ]
    },
    {
      "cell_type": "code",
      "source": [
        "type(a)"
      ],
      "metadata": {
        "colab": {
          "base_uri": "https://localhost:8080/"
        },
        "id": "Qsv7HJkHqyo6",
        "outputId": "48b67bcc-acb4-407f-e218-bcf2c29ec2e0"
      },
      "execution_count": 17,
      "outputs": [
        {
          "output_type": "execute_result",
          "data": {
            "text/plain": [
              "float"
            ]
          },
          "metadata": {},
          "execution_count": 17
        }
      ]
    },
    {
      "cell_type": "code",
      "source": [
        "print(type(a))"
      ],
      "metadata": {
        "colab": {
          "base_uri": "https://localhost:8080/"
        },
        "id": "yMtLVBT3qzvN",
        "outputId": "f9cffb3e-c6ab-4f3c-fd61-306e351cac53"
      },
      "execution_count": 18,
      "outputs": [
        {
          "output_type": "stream",
          "name": "stdout",
          "text": [
            "<class 'float'>\n"
          ]
        }
      ]
    },
    {
      "cell_type": "code",
      "source": [
        "# Boolean"
      ],
      "metadata": {
        "id": "px5xLQmGq1Fq"
      },
      "execution_count": 19,
      "outputs": []
    },
    {
      "cell_type": "code",
      "source": [
        "a = True     # logical output is 1"
      ],
      "metadata": {
        "id": "Lrf1F4Hxq9a5"
      },
      "execution_count": 20,
      "outputs": []
    },
    {
      "cell_type": "code",
      "source": [
        "b = False    #logical ouput is 0 zero"
      ],
      "metadata": {
        "id": "U7JpbkMVq_Ld"
      },
      "execution_count": 22,
      "outputs": []
    },
    {
      "cell_type": "code",
      "source": [
        "tushar = 10"
      ],
      "metadata": {
        "id": "frJXlv9OrAoF"
      },
      "execution_count": 23,
      "outputs": []
    },
    {
      "cell_type": "code",
      "source": [
        "Tushar = 20"
      ],
      "metadata": {
        "id": "BQ3DHi5HrKwv"
      },
      "execution_count": 25,
      "outputs": []
    },
    {
      "cell_type": "code",
      "source": [
        "a = \"Hello\""
      ],
      "metadata": {
        "id": "ubNwkTAfrL0l"
      },
      "execution_count": 26,
      "outputs": []
    },
    {
      "cell_type": "code",
      "source": [
        "a"
      ],
      "metadata": {
        "colab": {
          "base_uri": "https://localhost:8080/",
          "height": 36
        },
        "id": "FSp4iHRsrxj9",
        "outputId": "3ea1b28c-ae90-466f-e43a-807ac4c2c003"
      },
      "execution_count": 27,
      "outputs": [
        {
          "output_type": "execute_result",
          "data": {
            "text/plain": [
              "'Hello'"
            ],
            "application/vnd.google.colaboratory.intrinsic+json": {
              "type": "string"
            }
          },
          "metadata": {},
          "execution_count": 27
        }
      ]
    },
    {
      "cell_type": "code",
      "source": [
        "type(a)"
      ],
      "metadata": {
        "colab": {
          "base_uri": "https://localhost:8080/"
        },
        "id": "8GYadOAYrx7q",
        "outputId": "eb731e58-d7b8-4087-9905-75f04d96743d"
      },
      "execution_count": 29,
      "outputs": [
        {
          "output_type": "execute_result",
          "data": {
            "text/plain": [
              "str"
            ]
          },
          "metadata": {},
          "execution_count": 29
        }
      ]
    },
    {
      "cell_type": "code",
      "source": [
        "type(b)"
      ],
      "metadata": {
        "colab": {
          "base_uri": "https://localhost:8080/"
        },
        "id": "v6WhSVrRry3b",
        "outputId": "eeffab74-02f1-4bb7-a112-fd7e24f9a884"
      },
      "execution_count": 30,
      "outputs": [
        {
          "output_type": "execute_result",
          "data": {
            "text/plain": [
              "bool"
            ]
          },
          "metadata": {},
          "execution_count": 30
        }
      ]
    },
    {
      "cell_type": "code",
      "source": [
        "#complex"
      ],
      "metadata": {
        "id": "nN8FyQ1Sr2rz"
      },
      "execution_count": 31,
      "outputs": []
    },
    {
      "cell_type": "code",
      "source": [
        "a = 2 + 3j"
      ],
      "metadata": {
        "id": "T1qaX6dfr5Ic"
      },
      "execution_count": 32,
      "outputs": []
    },
    {
      "cell_type": "code",
      "source": [
        "type(a)"
      ],
      "metadata": {
        "colab": {
          "base_uri": "https://localhost:8080/"
        },
        "id": "2Q8maCAGr8Az",
        "outputId": "6f2080ee-c37c-4341-d735-0cfe00a81f4f"
      },
      "execution_count": 38,
      "outputs": [
        {
          "output_type": "execute_result",
          "data": {
            "text/plain": [
              "complex"
            ]
          },
          "metadata": {},
          "execution_count": 38
        }
      ]
    },
    {
      "cell_type": "markdown",
      "source": [
        "#sequence data Structure"
      ],
      "metadata": {
        "id": "Ei4HkdMjsSmb"
      }
    },
    {
      "cell_type": "code",
      "source": [
        "#list  - always is square braces []"
      ],
      "metadata": {
        "id": "UOF8SJHPr85L"
      },
      "execution_count": 42,
      "outputs": []
    },
    {
      "cell_type": "code",
      "source": [
        "a = [10,\"Hello\",50.45,True]"
      ],
      "metadata": {
        "id": "jjfbKsPNsZ4D"
      },
      "execution_count": 45,
      "outputs": []
    },
    {
      "cell_type": "code",
      "source": [
        "type(a)"
      ],
      "metadata": {
        "colab": {
          "base_uri": "https://localhost:8080/"
        },
        "id": "QxTKiyv6sa6E",
        "outputId": "ae0aee38-f4e3-4d39-b122-2cb3801b552a"
      },
      "execution_count": 46,
      "outputs": [
        {
          "output_type": "execute_result",
          "data": {
            "text/plain": [
              "list"
            ]
          },
          "metadata": {},
          "execution_count": 46
        }
      ]
    },
    {
      "cell_type": "code",
      "source": [
        "#tuple  - always in paranthesis ()"
      ],
      "metadata": {
        "id": "khac18sXsq00"
      },
      "execution_count": 48,
      "outputs": []
    },
    {
      "cell_type": "code",
      "source": [
        "b = (10,20,30,50,60,40)"
      ],
      "metadata": {
        "id": "rSU0WNW2tA22"
      },
      "execution_count": 49,
      "outputs": []
    },
    {
      "cell_type": "code",
      "source": [
        "type(b)"
      ],
      "metadata": {
        "colab": {
          "base_uri": "https://localhost:8080/"
        },
        "id": "PMo2gDOEtEkU",
        "outputId": "882ebba1-7859-4443-8330-0bbf754b00fb"
      },
      "execution_count": 50,
      "outputs": [
        {
          "output_type": "execute_result",
          "data": {
            "text/plain": [
              "tuple"
            ]
          },
          "metadata": {},
          "execution_count": 50
        }
      ]
    },
    {
      "cell_type": "code",
      "source": [
        "#set - always in curly braces {}"
      ],
      "metadata": {
        "id": "SGfGxCNHtFYL"
      },
      "execution_count": 51,
      "outputs": []
    },
    {
      "cell_type": "code",
      "source": [
        "c = {10,20,30,40,50,50,50,50,60}"
      ],
      "metadata": {
        "id": "7vDFv7qltcUU"
      },
      "execution_count": 52,
      "outputs": []
    },
    {
      "cell_type": "code",
      "source": [
        "c"
      ],
      "metadata": {
        "colab": {
          "base_uri": "https://localhost:8080/"
        },
        "id": "sJltrUQttfLa",
        "outputId": "87bf02bc-1b96-43fd-a5bf-3508f03441c3"
      },
      "execution_count": 53,
      "outputs": [
        {
          "output_type": "execute_result",
          "data": {
            "text/plain": [
              "{10, 20, 30, 40, 50, 60}"
            ]
          },
          "metadata": {},
          "execution_count": 53
        }
      ]
    },
    {
      "cell_type": "code",
      "source": [
        "type(c)"
      ],
      "metadata": {
        "colab": {
          "base_uri": "https://localhost:8080/"
        },
        "id": "HC29feoKtfjY",
        "outputId": "ed074951-5914-440d-99bf-9374082503d2"
      },
      "execution_count": 54,
      "outputs": [
        {
          "output_type": "execute_result",
          "data": {
            "text/plain": [
              "set"
            ]
          },
          "metadata": {},
          "execution_count": 54
        }
      ]
    },
    {
      "cell_type": "code",
      "source": [
        "#dictonary - always in curly braces but in keys and values pair {key:values}"
      ],
      "metadata": {
        "id": "9ByhFafotkOR"
      },
      "execution_count": 55,
      "outputs": []
    },
    {
      "cell_type": "code",
      "source": [
        "d = {\"name\":\"Vinay\", \"Age\":34, \"city\":\"Wardha\"}"
      ],
      "metadata": {
        "id": "Hk8lGyxct1B2"
      },
      "execution_count": 61,
      "outputs": []
    },
    {
      "cell_type": "code",
      "source": [
        "d"
      ],
      "metadata": {
        "colab": {
          "base_uri": "https://localhost:8080/"
        },
        "id": "TaJOIVD_t_hY",
        "outputId": "229bb2e5-34f7-44be-e32a-e0d3b8883e74"
      },
      "execution_count": 57,
      "outputs": [
        {
          "output_type": "execute_result",
          "data": {
            "text/plain": [
              "{'name': 'Vinay', 'Age': 34, 'city': 'Wardha'}"
            ]
          },
          "metadata": {},
          "execution_count": 57
        }
      ]
    },
    {
      "cell_type": "code",
      "source": [
        "type(d)"
      ],
      "metadata": {
        "colab": {
          "base_uri": "https://localhost:8080/"
        },
        "id": "YbJlRMeAt_-d",
        "outputId": "cd5125a6-09c5-483e-97ed-5bbd9ab967d9"
      },
      "execution_count": 59,
      "outputs": [
        {
          "output_type": "execute_result",
          "data": {
            "text/plain": [
              "dict"
            ]
          },
          "metadata": {},
          "execution_count": 59
        }
      ]
    },
    {
      "cell_type": "code",
      "source": [
        "z =10"
      ],
      "metadata": {
        "id": "tJg_95ykuBZx"
      },
      "execution_count": 63,
      "outputs": []
    },
    {
      "cell_type": "code",
      "source": [
        "z"
      ],
      "metadata": {
        "colab": {
          "base_uri": "https://localhost:8080/"
        },
        "id": "vDZ5GNDJuR3Y",
        "outputId": "9a0813b9-7f1c-420c-d239-873f48c6ad90"
      },
      "execution_count": 64,
      "outputs": [
        {
          "output_type": "execute_result",
          "data": {
            "text/plain": [
              "10"
            ]
          },
          "metadata": {},
          "execution_count": 64
        }
      ]
    },
    {
      "cell_type": "code",
      "source": [
        "#none data type"
      ],
      "metadata": {
        "id": "i0q_3TP-uUKc"
      },
      "execution_count": 65,
      "outputs": []
    },
    {
      "cell_type": "code",
      "source": [
        "a = None"
      ],
      "metadata": {
        "id": "jzojCqRxuaQo"
      },
      "execution_count": 66,
      "outputs": []
    },
    {
      "cell_type": "code",
      "source": [
        "type(a)"
      ],
      "metadata": {
        "colab": {
          "base_uri": "https://localhost:8080/"
        },
        "id": "dMedwWD_ubZ3",
        "outputId": "a042b272-3f2c-46df-fc2a-c38d98da0aa6"
      },
      "execution_count": 67,
      "outputs": [
        {
          "output_type": "execute_result",
          "data": {
            "text/plain": [
              "NoneType"
            ]
          },
          "metadata": {},
          "execution_count": 67
        }
      ]
    },
    {
      "cell_type": "markdown",
      "source": [
        "#Arithmatic Operators"
      ],
      "metadata": {
        "id": "inVry-2Tuq3D"
      }
    },
    {
      "cell_type": "code",
      "source": [
        "#addition\n"
      ],
      "metadata": {
        "id": "_0VlJjUGugMv"
      },
      "execution_count": 68,
      "outputs": []
    },
    {
      "cell_type": "code",
      "source": [
        "a = 10\n",
        "b = 20"
      ],
      "metadata": {
        "id": "vbcCJVN0uwG0"
      },
      "execution_count": 69,
      "outputs": []
    },
    {
      "cell_type": "code",
      "source": [
        "c = a + b"
      ],
      "metadata": {
        "id": "V9lzfxFtuxxv"
      },
      "execution_count": 70,
      "outputs": []
    },
    {
      "cell_type": "code",
      "source": [
        "c"
      ],
      "metadata": {
        "colab": {
          "base_uri": "https://localhost:8080/"
        },
        "id": "4H_efthxuzW6",
        "outputId": "3bb65f06-e143-43b9-a14e-14140b5b2a0a"
      },
      "execution_count": 71,
      "outputs": [
        {
          "output_type": "execute_result",
          "data": {
            "text/plain": [
              "30"
            ]
          },
          "metadata": {},
          "execution_count": 71
        }
      ]
    },
    {
      "cell_type": "code",
      "source": [
        "a + b"
      ],
      "metadata": {
        "colab": {
          "base_uri": "https://localhost:8080/"
        },
        "id": "R75j2wMRuzuV",
        "outputId": "8ff1a180-a38b-4d05-c332-dc64b1168430"
      },
      "execution_count": 72,
      "outputs": [
        {
          "output_type": "execute_result",
          "data": {
            "text/plain": [
              "30"
            ]
          },
          "metadata": {},
          "execution_count": 72
        }
      ]
    },
    {
      "cell_type": "code",
      "source": [
        "10 + 20"
      ],
      "metadata": {
        "colab": {
          "base_uri": "https://localhost:8080/"
        },
        "id": "X8zu7xmwu0zC",
        "outputId": "b39aaa70-942f-4c67-8e8e-60c2e8d6d7d8"
      },
      "execution_count": 73,
      "outputs": [
        {
          "output_type": "execute_result",
          "data": {
            "text/plain": [
              "30"
            ]
          },
          "metadata": {},
          "execution_count": 73
        }
      ]
    },
    {
      "cell_type": "code",
      "source": [
        "#substraction"
      ],
      "metadata": {
        "id": "yl8tuQExu1wE"
      },
      "execution_count": 74,
      "outputs": []
    },
    {
      "cell_type": "code",
      "source": [
        "20 - 5"
      ],
      "metadata": {
        "colab": {
          "base_uri": "https://localhost:8080/"
        },
        "id": "6yOHZnYhu7is",
        "outputId": "beb184ca-752a-4a93-bb65-3d6d7f1b5cdd"
      },
      "execution_count": 75,
      "outputs": [
        {
          "output_type": "execute_result",
          "data": {
            "text/plain": [
              "15"
            ]
          },
          "metadata": {},
          "execution_count": 75
        }
      ]
    },
    {
      "cell_type": "code",
      "source": [
        "#mul"
      ],
      "metadata": {
        "id": "4sMydl5Eu83F"
      },
      "execution_count": 76,
      "outputs": []
    },
    {
      "cell_type": "code",
      "source": [
        "20 * 5"
      ],
      "metadata": {
        "colab": {
          "base_uri": "https://localhost:8080/"
        },
        "id": "3VsAA9HDu-fe",
        "outputId": "51dfeeb1-0948-4d28-9920-8af4cf64e534"
      },
      "execution_count": 77,
      "outputs": [
        {
          "output_type": "execute_result",
          "data": {
            "text/plain": [
              "100"
            ]
          },
          "metadata": {},
          "execution_count": 77
        }
      ]
    },
    {
      "cell_type": "code",
      "source": [
        "#division"
      ],
      "metadata": {
        "id": "aoFvaoP8u_TN"
      },
      "execution_count": 78,
      "outputs": []
    },
    {
      "cell_type": "code",
      "source": [
        "20 / 3"
      ],
      "metadata": {
        "colab": {
          "base_uri": "https://localhost:8080/"
        },
        "id": "Yc49BlQGvCdS",
        "outputId": "856cbff5-958c-4262-ee77-ea9e554b2093"
      },
      "execution_count": 81,
      "outputs": [
        {
          "output_type": "execute_result",
          "data": {
            "text/plain": [
              "6.666666666666667"
            ]
          },
          "metadata": {},
          "execution_count": 81
        }
      ]
    },
    {
      "cell_type": "code",
      "source": [
        "#floor division"
      ],
      "metadata": {
        "id": "Y0NlqsgpvDLU"
      },
      "execution_count": 82,
      "outputs": []
    },
    {
      "cell_type": "code",
      "source": [
        "20 // 3"
      ],
      "metadata": {
        "colab": {
          "base_uri": "https://localhost:8080/"
        },
        "id": "9PEsUJ0HvMLv",
        "outputId": "6b25b428-fc54-475e-d6a0-b96f450d6dde"
      },
      "execution_count": 83,
      "outputs": [
        {
          "output_type": "execute_result",
          "data": {
            "text/plain": [
              "6"
            ]
          },
          "metadata": {},
          "execution_count": 83
        }
      ]
    },
    {
      "cell_type": "code",
      "source": [
        "#reminder - modules %"
      ],
      "metadata": {
        "id": "7fHSlrqBvNL0"
      },
      "execution_count": 84,
      "outputs": []
    },
    {
      "cell_type": "code",
      "source": [
        "20 % 3"
      ],
      "metadata": {
        "colab": {
          "base_uri": "https://localhost:8080/"
        },
        "id": "e7w4BaO6vYNG",
        "outputId": "72003ef7-6f19-4143-dbf9-e163a8fa518a"
      },
      "execution_count": 85,
      "outputs": [
        {
          "output_type": "execute_result",
          "data": {
            "text/plain": [
              "2"
            ]
          },
          "metadata": {},
          "execution_count": 85
        }
      ]
    },
    {
      "cell_type": "code",
      "source": [
        "#exponensial - power **"
      ],
      "metadata": {
        "id": "k-7NkorbvZaO"
      },
      "execution_count": 86,
      "outputs": []
    },
    {
      "cell_type": "code",
      "source": [
        "4 ** 2"
      ],
      "metadata": {
        "colab": {
          "base_uri": "https://localhost:8080/"
        },
        "id": "-GILlsn1vwL7",
        "outputId": "6b1870df-b120-44d1-84df-14e9ea30abfa"
      },
      "execution_count": 88,
      "outputs": [
        {
          "output_type": "execute_result",
          "data": {
            "text/plain": [
              "16"
            ]
          },
          "metadata": {},
          "execution_count": 88
        }
      ]
    },
    {
      "cell_type": "markdown",
      "source": [
        "#comparative operatores"
      ],
      "metadata": {
        "id": "CYEjjPPgv5Pc"
      }
    },
    {
      "cell_type": "code",
      "source": [
        "# equal to - assign operator ="
      ],
      "metadata": {
        "id": "0DS_5cKovxCU"
      },
      "execution_count": 89,
      "outputs": []
    },
    {
      "cell_type": "code",
      "source": [
        "a = 10"
      ],
      "metadata": {
        "id": "-Zo8C3Uuv_ck"
      },
      "execution_count": 90,
      "outputs": []
    },
    {
      "cell_type": "code",
      "source": [
        "City = \"'Wardha*\""
      ],
      "metadata": {
        "id": "5_PooUyJwAK0"
      },
      "execution_count": 97,
      "outputs": []
    },
    {
      "cell_type": "code",
      "source": [
        "City"
      ],
      "metadata": {
        "colab": {
          "base_uri": "https://localhost:8080/",
          "height": 36
        },
        "id": "-2pXVHSOwDll",
        "outputId": "8c0340d4-7a8d-4828-b6f0-ca6e9333fa98"
      },
      "execution_count": 98,
      "outputs": [
        {
          "output_type": "execute_result",
          "data": {
            "text/plain": [
              "\"'Wardha*\""
            ],
            "application/vnd.google.colaboratory.intrinsic+json": {
              "type": "string"
            }
          },
          "metadata": {},
          "execution_count": 98
        }
      ]
    },
    {
      "cell_type": "code",
      "source": [
        "a = '\"wardha\"'"
      ],
      "metadata": {
        "id": "lfeSM4tOwOfu"
      },
      "execution_count": 104,
      "outputs": []
    },
    {
      "cell_type": "code",
      "source": [
        "a"
      ],
      "metadata": {
        "colab": {
          "base_uri": "https://localhost:8080/",
          "height": 36
        },
        "id": "vnvOjtjbwVL4",
        "outputId": "f48248c9-2f5a-4efc-81a7-e14eaa61f334"
      },
      "execution_count": 105,
      "outputs": [
        {
          "output_type": "execute_result",
          "data": {
            "text/plain": [
              "'\"wardha\"'"
            ],
            "application/vnd.google.colaboratory.intrinsic+json": {
              "type": "string"
            }
          },
          "metadata": {},
          "execution_count": 105
        }
      ]
    },
    {
      "cell_type": "code",
      "source": [
        "print(a)"
      ],
      "metadata": {
        "colab": {
          "base_uri": "https://localhost:8080/"
        },
        "id": "X1LOCAzfwV1a",
        "outputId": "5574f412-4c16-4596-c08f-d46cd91356a1"
      },
      "execution_count": 106,
      "outputs": [
        {
          "output_type": "stream",
          "name": "stdout",
          "text": [
            "\"wardha\"\n"
          ]
        }
      ]
    },
    {
      "cell_type": "code",
      "source": [
        "# comaparator =="
      ],
      "metadata": {
        "id": "EwHqwVQ-wreQ"
      },
      "execution_count": 107,
      "outputs": []
    },
    {
      "cell_type": "code",
      "source": [
        "20 == 10"
      ],
      "metadata": {
        "colab": {
          "base_uri": "https://localhost:8080/"
        },
        "id": "iduE9uOGw6YE",
        "outputId": "10142ea2-d3e0-4146-924a-ccd36fdacb6b"
      },
      "execution_count": 108,
      "outputs": [
        {
          "output_type": "execute_result",
          "data": {
            "text/plain": [
              "False"
            ]
          },
          "metadata": {},
          "execution_count": 108
        }
      ]
    },
    {
      "cell_type": "code",
      "source": [
        "a= 10"
      ],
      "metadata": {
        "id": "Nrv1pgiJw7qC"
      },
      "execution_count": 109,
      "outputs": []
    },
    {
      "cell_type": "code",
      "source": [
        "b = 10"
      ],
      "metadata": {
        "id": "NQDoU4O_w97f"
      },
      "execution_count": 110,
      "outputs": []
    },
    {
      "cell_type": "code",
      "source": [
        "a == b"
      ],
      "metadata": {
        "colab": {
          "base_uri": "https://localhost:8080/"
        },
        "id": "uqrmR55lxAH7",
        "outputId": "5ca0c708-dba5-4156-9eaa-303edaf0daf2"
      },
      "execution_count": 111,
      "outputs": [
        {
          "output_type": "execute_result",
          "data": {
            "text/plain": [
              "True"
            ]
          },
          "metadata": {},
          "execution_count": 111
        }
      ]
    },
    {
      "cell_type": "code",
      "source": [
        "# not equal to  !="
      ],
      "metadata": {
        "id": "62nQWTyyxBJM"
      },
      "execution_count": 112,
      "outputs": []
    },
    {
      "cell_type": "code",
      "source": [
        "20 != 20"
      ],
      "metadata": {
        "colab": {
          "base_uri": "https://localhost:8080/"
        },
        "id": "nkAxZB2ixNAq",
        "outputId": "25689195-52fd-4be7-8823-6c7288643fb8"
      },
      "execution_count": 113,
      "outputs": [
        {
          "output_type": "execute_result",
          "data": {
            "text/plain": [
              "False"
            ]
          },
          "metadata": {},
          "execution_count": 113
        }
      ]
    },
    {
      "cell_type": "code",
      "source": [
        "20 != 10"
      ],
      "metadata": {
        "colab": {
          "base_uri": "https://localhost:8080/"
        },
        "id": "G_FXCdAMxOWP",
        "outputId": "b6e62856-2713-432d-cf1d-ac60b07d666e"
      },
      "execution_count": 115,
      "outputs": [
        {
          "output_type": "execute_result",
          "data": {
            "text/plain": [
              "True"
            ]
          },
          "metadata": {},
          "execution_count": 115
        }
      ]
    },
    {
      "cell_type": "code",
      "source": [
        "# greater than less than"
      ],
      "metadata": {
        "id": "zk7Al59hxPdd"
      },
      "execution_count": 116,
      "outputs": []
    },
    {
      "cell_type": "code",
      "source": [
        "10 > 5"
      ],
      "metadata": {
        "colab": {
          "base_uri": "https://localhost:8080/"
        },
        "id": "9CPoYCoBxdtJ",
        "outputId": "c5f52c80-4111-48a1-b1b0-048833ea45db"
      },
      "execution_count": 117,
      "outputs": [
        {
          "output_type": "execute_result",
          "data": {
            "text/plain": [
              "True"
            ]
          },
          "metadata": {},
          "execution_count": 117
        }
      ]
    },
    {
      "cell_type": "code",
      "source": [
        "10 < 5"
      ],
      "metadata": {
        "colab": {
          "base_uri": "https://localhost:8080/"
        },
        "id": "i6o6zNptxelg",
        "outputId": "19904004-ec58-40c6-9613-49a12a56f23d"
      },
      "execution_count": 118,
      "outputs": [
        {
          "output_type": "execute_result",
          "data": {
            "text/plain": [
              "False"
            ]
          },
          "metadata": {},
          "execution_count": 118
        }
      ]
    },
    {
      "cell_type": "code",
      "source": [
        "#greater than eual to"
      ],
      "metadata": {
        "id": "zDAOadKCxf2R"
      },
      "execution_count": 119,
      "outputs": []
    },
    {
      "cell_type": "code",
      "source": [
        "5 >= 5"
      ],
      "metadata": {
        "colab": {
          "base_uri": "https://localhost:8080/"
        },
        "id": "JolicQqZxkTO",
        "outputId": "38516e9f-3596-400e-f680-710af92ed665"
      },
      "execution_count": 120,
      "outputs": [
        {
          "output_type": "execute_result",
          "data": {
            "text/plain": [
              "True"
            ]
          },
          "metadata": {},
          "execution_count": 120
        }
      ]
    },
    {
      "cell_type": "markdown",
      "source": [
        "#logical operators"
      ],
      "metadata": {
        "id": "H7V6HDWDxxQR"
      }
    },
    {
      "cell_type": "code",
      "source": [
        "#AND = when both condition true outpur is true"
      ],
      "metadata": {
        "id": "SZMj9NvMxlDb"
      },
      "execution_count": 121,
      "outputs": []
    },
    {
      "cell_type": "code",
      "source": [
        "5 == 4 and 4 == 5"
      ],
      "metadata": {
        "colab": {
          "base_uri": "https://localhost:8080/"
        },
        "id": "3lLmOGnix2-n",
        "outputId": "79827c1e-62c0-42d6-956c-cb1a2f390a28"
      },
      "execution_count": 122,
      "outputs": [
        {
          "output_type": "execute_result",
          "data": {
            "text/plain": [
              "False"
            ]
          },
          "metadata": {},
          "execution_count": 122
        }
      ]
    },
    {
      "cell_type": "code",
      "source": [
        "5 == 5 and 4 == 4"
      ],
      "metadata": {
        "colab": {
          "base_uri": "https://localhost:8080/"
        },
        "id": "VI0JGjfrx7dp",
        "outputId": "9ebdca38-30c8-44c9-9bd4-a6a8f3e55e18"
      },
      "execution_count": 123,
      "outputs": [
        {
          "output_type": "execute_result",
          "data": {
            "text/plain": [
              "True"
            ]
          },
          "metadata": {},
          "execution_count": 123
        }
      ]
    },
    {
      "cell_type": "code",
      "source": [
        "#OR - any one condition is true"
      ],
      "metadata": {
        "id": "zvOTA3d6x9tN"
      },
      "execution_count": 124,
      "outputs": []
    },
    {
      "cell_type": "code",
      "source": [
        "5 == 4 or 4 == 4"
      ],
      "metadata": {
        "colab": {
          "base_uri": "https://localhost:8080/"
        },
        "id": "lV7TF9uByBqb",
        "outputId": "3a6b18ea-4272-4478-f6ca-afd8e6c96756"
      },
      "execution_count": 125,
      "outputs": [
        {
          "output_type": "execute_result",
          "data": {
            "text/plain": [
              "True"
            ]
          },
          "metadata": {},
          "execution_count": 125
        }
      ]
    },
    {
      "cell_type": "code",
      "source": [
        "#not - rreverse the condition"
      ],
      "metadata": {
        "id": "jrGzptV0yEdb"
      },
      "execution_count": 126,
      "outputs": []
    },
    {
      "cell_type": "code",
      "source": [
        "5 == 4"
      ],
      "metadata": {
        "colab": {
          "base_uri": "https://localhost:8080/"
        },
        "id": "zm4jRRkJyQyS",
        "outputId": "32a677a2-4388-4d73-ba1f-b5470e40ab01"
      },
      "execution_count": 127,
      "outputs": [
        {
          "output_type": "execute_result",
          "data": {
            "text/plain": [
              "False"
            ]
          },
          "metadata": {},
          "execution_count": 127
        }
      ]
    },
    {
      "cell_type": "code",
      "source": [
        "not( 5 == 4)"
      ],
      "metadata": {
        "colab": {
          "base_uri": "https://localhost:8080/"
        },
        "id": "XTkVz0mAyTL2",
        "outputId": "f3db78ff-7f95-4b2c-9ab9-0812e270955c"
      },
      "execution_count": 128,
      "outputs": [
        {
          "output_type": "execute_result",
          "data": {
            "text/plain": [
              "True"
            ]
          },
          "metadata": {},
          "execution_count": 128
        }
      ]
    },
    {
      "cell_type": "markdown",
      "source": [
        "#assign operators"
      ],
      "metadata": {
        "id": "D9Yz8D9Yyh1L"
      }
    },
    {
      "cell_type": "code",
      "source": [
        "a = 10"
      ],
      "metadata": {
        "id": "0pJfGA54yVLF"
      },
      "execution_count": 129,
      "outputs": []
    },
    {
      "cell_type": "code",
      "source": [
        "a = a + 1"
      ],
      "metadata": {
        "id": "FDEOP6alymP4"
      },
      "execution_count": 130,
      "outputs": []
    },
    {
      "cell_type": "code",
      "source": [
        "a"
      ],
      "metadata": {
        "colab": {
          "base_uri": "https://localhost:8080/"
        },
        "id": "jBcu7ZXXyo-n",
        "outputId": "25b8598b-4226-439a-e6bc-9510b87c67e3"
      },
      "execution_count": 131,
      "outputs": [
        {
          "output_type": "execute_result",
          "data": {
            "text/plain": [
              "11"
            ]
          },
          "metadata": {},
          "execution_count": 131
        }
      ]
    },
    {
      "cell_type": "code",
      "source": [
        "a += 1"
      ],
      "metadata": {
        "id": "mRldexDSypT3"
      },
      "execution_count": 132,
      "outputs": []
    },
    {
      "cell_type": "code",
      "source": [
        "a"
      ],
      "metadata": {
        "colab": {
          "base_uri": "https://localhost:8080/"
        },
        "id": "B_ElwfgKyrHJ",
        "outputId": "6b85da1d-893b-4b1a-ad78-68714b4a6b47"
      },
      "execution_count": 133,
      "outputs": [
        {
          "output_type": "execute_result",
          "data": {
            "text/plain": [
              "12"
            ]
          },
          "metadata": {},
          "execution_count": 133
        }
      ]
    },
    {
      "cell_type": "code",
      "source": [
        "b = 10"
      ],
      "metadata": {
        "id": "jruFsnxXyr_l"
      },
      "execution_count": 134,
      "outputs": []
    },
    {
      "cell_type": "code",
      "source": [
        "#b = b - 6\n",
        "b -=6"
      ],
      "metadata": {
        "id": "QSKrfANxy4Wf"
      },
      "execution_count": 135,
      "outputs": []
    },
    {
      "cell_type": "code",
      "source": [
        "b"
      ],
      "metadata": {
        "colab": {
          "base_uri": "https://localhost:8080/"
        },
        "id": "wyNlnEgMy-_v",
        "outputId": "90b651b4-627e-4c67-a81d-932944d49959"
      },
      "execution_count": 136,
      "outputs": [
        {
          "output_type": "execute_result",
          "data": {
            "text/plain": [
              "4"
            ]
          },
          "metadata": {},
          "execution_count": 136
        }
      ]
    },
    {
      "cell_type": "markdown",
      "source": [
        "#print function"
      ],
      "metadata": {
        "id": "daTRDGn3zXjf"
      }
    },
    {
      "cell_type": "code",
      "source": [
        "print(\"Welcome to deam with data\")"
      ],
      "metadata": {
        "colab": {
          "base_uri": "https://localhost:8080/"
        },
        "id": "MryyTj_Uy_a6",
        "outputId": "d14163b5-bf52-4a6d-924b-0b780a60ba9c"
      },
      "execution_count": 138,
      "outputs": [
        {
          "output_type": "stream",
          "name": "stdout",
          "text": [
            "Welcome to deam with data\n"
          ]
        }
      ]
    },
    {
      "cell_type": "code",
      "source": [
        "a = \"Vinay\""
      ],
      "metadata": {
        "id": "Pk28QjLDzFHZ"
      },
      "execution_count": 139,
      "outputs": []
    },
    {
      "cell_type": "code",
      "source": [
        "print(\"welcome\",a)"
      ],
      "metadata": {
        "colab": {
          "base_uri": "https://localhost:8080/"
        },
        "id": "YoNp0-SQze-_",
        "outputId": "447e95f6-d86a-4590-d0df-f494f5c2e742"
      },
      "execution_count": 140,
      "outputs": [
        {
          "output_type": "stream",
          "name": "stdout",
          "text": [
            "welcome Vinay\n"
          ]
        }
      ]
    },
    {
      "cell_type": "code",
      "source": [
        "b = 34"
      ],
      "metadata": {
        "id": "S-EWpDCpzhlA"
      },
      "execution_count": 141,
      "outputs": []
    },
    {
      "cell_type": "code",
      "source": [
        "print(\"my name is \", a, \"and my age is \",b)"
      ],
      "metadata": {
        "colab": {
          "base_uri": "https://localhost:8080/"
        },
        "id": "3zhktQ-Nzyel",
        "outputId": "737fe165-a127-4f03-eb2c-ce689bf8e016"
      },
      "execution_count": 142,
      "outputs": [
        {
          "output_type": "stream",
          "name": "stdout",
          "text": [
            "my name is  Vinay and my age is  34\n"
          ]
        }
      ]
    },
    {
      "cell_type": "code",
      "source": [
        "print(f\"my name is {a} and my age is {b}\")   #f-strig"
      ],
      "metadata": {
        "colab": {
          "base_uri": "https://localhost:8080/"
        },
        "id": "COJCPFpGz26n",
        "outputId": "84d5df1f-bb99-42b6-b00a-5b172e4b884a"
      },
      "execution_count": 145,
      "outputs": [
        {
          "output_type": "stream",
          "name": "stdout",
          "text": [
            "my name is Vinay and my age is 34\n"
          ]
        }
      ]
    },
    {
      "cell_type": "code",
      "source": [],
      "metadata": {
        "id": "klKzGjE6z-Uy"
      },
      "execution_count": null,
      "outputs": []
    }
  ]
}
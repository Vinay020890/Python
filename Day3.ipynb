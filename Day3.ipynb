{
  "nbformat": 4,
  "nbformat_minor": 0,
  "metadata": {
    "colab": {
      "provenance": []
    },
    "kernelspec": {
      "name": "python3",
      "display_name": "Python 3"
    },
    "language_info": {
      "name": "python"
    }
  },
  "cells": [
    {
      "cell_type": "markdown",
      "source": [
        "#Dicrionary in python\n",
        "\n",
        "- unordered\n",
        "- mutable\n",
        "- index collection by keys and values\n",
        "- key must be unique"
      ],
      "metadata": {
        "id": "qHBLBfxN8R9K"
      }
    },
    {
      "cell_type": "code",
      "execution_count": 1,
      "metadata": {
        "id": "NmbNP-4e7nc4"
      },
      "outputs": [],
      "source": [
        "my_dict = {\"name\":\"Tushar\", \"Age\":33, \"City\":\"Wardha\"}"
      ]
    },
    {
      "cell_type": "code",
      "source": [
        "#accssing elemnets"
      ],
      "metadata": {
        "id": "gkJvvdiK8ktK"
      },
      "execution_count": 2,
      "outputs": []
    },
    {
      "cell_type": "code",
      "source": [
        "my_dict[\"name\"]"
      ],
      "metadata": {
        "colab": {
          "base_uri": "https://localhost:8080/",
          "height": 36
        },
        "id": "9N7aDRIZ9Kc2",
        "outputId": "34c46a47-07c6-4ada-de9c-880a297801cb"
      },
      "execution_count": 3,
      "outputs": [
        {
          "output_type": "execute_result",
          "data": {
            "text/plain": [
              "'Tushar'"
            ],
            "application/vnd.google.colaboratory.intrinsic+json": {
              "type": "string"
            }
          },
          "metadata": {},
          "execution_count": 3
        }
      ]
    },
    {
      "cell_type": "code",
      "source": [
        "my_dict['City']"
      ],
      "metadata": {
        "colab": {
          "base_uri": "https://localhost:8080/",
          "height": 36
        },
        "id": "NVCbnO7h9NdO",
        "outputId": "8fa4fa02-6517-4031-da0e-3933fd818edd"
      },
      "execution_count": 5,
      "outputs": [
        {
          "output_type": "execute_result",
          "data": {
            "text/plain": [
              "'Wardha'"
            ],
            "application/vnd.google.colaboratory.intrinsic+json": {
              "type": "string"
            }
          },
          "metadata": {},
          "execution_count": 5
        }
      ]
    },
    {
      "cell_type": "code",
      "source": [
        "my_dict['gender']"
      ],
      "metadata": {
        "colab": {
          "base_uri": "https://localhost:8080/",
          "height": 144
        },
        "id": "A6pThak69QXA",
        "outputId": "549defb3-948a-410d-fd81-050000931ad1"
      },
      "execution_count": 6,
      "outputs": [
        {
          "output_type": "error",
          "ename": "KeyError",
          "evalue": "'gender'",
          "traceback": [
            "\u001b[0;31m---------------------------------------------------------------------------\u001b[0m",
            "\u001b[0;31mKeyError\u001b[0m                                  Traceback (most recent call last)",
            "\u001b[0;32m<ipython-input-6-785ea194730d>\u001b[0m in \u001b[0;36m<cell line: 0>\u001b[0;34m()\u001b[0m\n\u001b[0;32m----> 1\u001b[0;31m \u001b[0mmy_dict\u001b[0m\u001b[0;34m[\u001b[0m\u001b[0;34m'gender'\u001b[0m\u001b[0;34m]\u001b[0m\u001b[0;34m\u001b[0m\u001b[0;34m\u001b[0m\u001b[0m\n\u001b[0m",
            "\u001b[0;31mKeyError\u001b[0m: 'gender'"
          ]
        }
      ]
    },
    {
      "cell_type": "code",
      "source": [
        "#to avoid key error while accessing we use get mehtod"
      ],
      "metadata": {
        "id": "54V8TjZ69Y_n"
      },
      "execution_count": 7,
      "outputs": []
    },
    {
      "cell_type": "code",
      "source": [
        "my_dict.get(\"gender\", \"Uknown\")"
      ],
      "metadata": {
        "colab": {
          "base_uri": "https://localhost:8080/",
          "height": 36
        },
        "id": "Sf9_vicC9gYY",
        "outputId": "fc53c2ef-262a-4bab-d1a4-94033efaf722"
      },
      "execution_count": 8,
      "outputs": [
        {
          "output_type": "execute_result",
          "data": {
            "text/plain": [
              "'Uknown'"
            ],
            "application/vnd.google.colaboratory.intrinsic+json": {
              "type": "string"
            }
          },
          "metadata": {},
          "execution_count": 8
        }
      ]
    },
    {
      "cell_type": "code",
      "source": [
        "my_dict.get(\"City\", \"Unknown\")"
      ],
      "metadata": {
        "colab": {
          "base_uri": "https://localhost:8080/",
          "height": 36
        },
        "id": "T_c88UA59q1Z",
        "outputId": "ebf35e72-88a3-4812-8763-3db987d30739"
      },
      "execution_count": 9,
      "outputs": [
        {
          "output_type": "execute_result",
          "data": {
            "text/plain": [
              "'Wardha'"
            ],
            "application/vnd.google.colaboratory.intrinsic+json": {
              "type": "string"
            }
          },
          "metadata": {},
          "execution_count": 9
        }
      ]
    },
    {
      "cell_type": "code",
      "source": [
        "#adding and changing"
      ],
      "metadata": {
        "id": "xIv0n9GW9upz"
      },
      "execution_count": 10,
      "outputs": []
    },
    {
      "cell_type": "code",
      "source": [
        "my_dict[\"City\"] =\"Nagpur\"   #modify"
      ],
      "metadata": {
        "id": "mBIMwFgg97ZI"
      },
      "execution_count": 11,
      "outputs": []
    },
    {
      "cell_type": "code",
      "source": [
        "my_dict"
      ],
      "metadata": {
        "colab": {
          "base_uri": "https://localhost:8080/"
        },
        "id": "5jg_kFLf9_jK",
        "outputId": "44a46ec0-63ed-47b6-e462-d0e8331a3d84"
      },
      "execution_count": 12,
      "outputs": [
        {
          "output_type": "execute_result",
          "data": {
            "text/plain": [
              "{'name': 'Tushar', 'Age': 33, 'City': 'Nagpur'}"
            ]
          },
          "metadata": {},
          "execution_count": 12
        }
      ]
    },
    {
      "cell_type": "code",
      "source": [
        "my_dict[\"gender\"] = \"Male\""
      ],
      "metadata": {
        "id": "g2zBcjto-AQz"
      },
      "execution_count": 13,
      "outputs": []
    },
    {
      "cell_type": "code",
      "source": [
        "my_dict"
      ],
      "metadata": {
        "colab": {
          "base_uri": "https://localhost:8080/"
        },
        "id": "-hv8XNor-JK_",
        "outputId": "984ef3c0-21f9-4920-d997-77af28d05643"
      },
      "execution_count": 14,
      "outputs": [
        {
          "output_type": "execute_result",
          "data": {
            "text/plain": [
              "{'name': 'Tushar', 'Age': 33, 'City': 'Nagpur', 'gender': 'Male'}"
            ]
          },
          "metadata": {},
          "execution_count": 14
        }
      ]
    },
    {
      "cell_type": "code",
      "source": [
        "#fromkeys mehotd"
      ],
      "metadata": {
        "id": "SyyFndZJ-KE6"
      },
      "execution_count": 15,
      "outputs": []
    },
    {
      "cell_type": "code",
      "source": [
        "keys =[\"Id\", \"Name\", \"Gender\", \"Age\"]\n",
        "values = [101,\"Tushar\", \"Male\", 33]"
      ],
      "metadata": {
        "id": "FdeO1zKc-Z4i"
      },
      "execution_count": 16,
      "outputs": []
    },
    {
      "cell_type": "code",
      "source": [
        "dict1 = dict.fromkeys(keys, None)"
      ],
      "metadata": {
        "id": "gT4mx4eP-lqe"
      },
      "execution_count": 23,
      "outputs": []
    },
    {
      "cell_type": "code",
      "source": [
        "dict1"
      ],
      "metadata": {
        "colab": {
          "base_uri": "https://localhost:8080/"
        },
        "id": "RsKm9nal-stb",
        "outputId": "ac5c0c25-0532-475c-9a2b-3b802bd875d2"
      },
      "execution_count": 24,
      "outputs": [
        {
          "output_type": "execute_result",
          "data": {
            "text/plain": [
              "{'Id': None, 'Name': None, 'Gender': None, 'Age': None}"
            ]
          },
          "metadata": {},
          "execution_count": 24
        }
      ]
    },
    {
      "cell_type": "code",
      "source": [
        "my_dict"
      ],
      "metadata": {
        "colab": {
          "base_uri": "https://localhost:8080/"
        },
        "id": "5-sWl_iR-typ",
        "outputId": "257d43f2-19c1-474f-9ccb-cb63d614a56e"
      },
      "execution_count": 26,
      "outputs": [
        {
          "output_type": "execute_result",
          "data": {
            "text/plain": [
              "{'name': 'Tushar', 'Age': 33, 'City': 'Nagpur', 'gender': 'Male'}"
            ]
          },
          "metadata": {},
          "execution_count": 26
        }
      ]
    },
    {
      "cell_type": "code",
      "source": [
        "my_dict.values()"
      ],
      "metadata": {
        "colab": {
          "base_uri": "https://localhost:8080/"
        },
        "id": "yeHOEemM--NE",
        "outputId": "d5514f8f-b5e1-4a76-bc04-e49d252b2ed6"
      },
      "execution_count": 28,
      "outputs": [
        {
          "output_type": "execute_result",
          "data": {
            "text/plain": [
              "dict_values(['Tushar', 33, 'Nagpur', 'Male'])"
            ]
          },
          "metadata": {},
          "execution_count": 28
        }
      ]
    },
    {
      "cell_type": "code",
      "source": [
        "my_dict.keys()"
      ],
      "metadata": {
        "colab": {
          "base_uri": "https://localhost:8080/"
        },
        "id": "tuVjk-kU_Yft",
        "outputId": "d56f12fc-2596-4e41-865b-68b9b0b4904e"
      },
      "execution_count": 29,
      "outputs": [
        {
          "output_type": "execute_result",
          "data": {
            "text/plain": [
              "dict_keys(['name', 'Age', 'City', 'gender'])"
            ]
          },
          "metadata": {},
          "execution_count": 29
        }
      ]
    },
    {
      "cell_type": "code",
      "source": [
        "#pop for remove"
      ],
      "metadata": {
        "id": "9apZseAg_bB5"
      },
      "execution_count": 30,
      "outputs": []
    },
    {
      "cell_type": "code",
      "source": [
        "my_dict.pop(\"name\")"
      ],
      "metadata": {
        "colab": {
          "base_uri": "https://localhost:8080/",
          "height": 36
        },
        "id": "1V7mDoUc_sby",
        "outputId": "785b9b45-063d-4c22-bb5f-91ffdb94acef"
      },
      "execution_count": 31,
      "outputs": [
        {
          "output_type": "execute_result",
          "data": {
            "text/plain": [
              "'Tushar'"
            ],
            "application/vnd.google.colaboratory.intrinsic+json": {
              "type": "string"
            }
          },
          "metadata": {},
          "execution_count": 31
        }
      ]
    },
    {
      "cell_type": "code",
      "source": [
        "my_dict"
      ],
      "metadata": {
        "colab": {
          "base_uri": "https://localhost:8080/"
        },
        "id": "WuGCijM4_vqs",
        "outputId": "ab44901b-423d-4988-f774-39c21e2faea0"
      },
      "execution_count": 32,
      "outputs": [
        {
          "output_type": "execute_result",
          "data": {
            "text/plain": [
              "{'Age': 33, 'City': 'Nagpur', 'gender': 'Male'}"
            ]
          },
          "metadata": {},
          "execution_count": 32
        }
      ]
    },
    {
      "cell_type": "code",
      "source": [
        "my_dict.popitem()"
      ],
      "metadata": {
        "colab": {
          "base_uri": "https://localhost:8080/"
        },
        "id": "VkmgAcdr_wkL",
        "outputId": "14ad65fd-664c-451d-a2be-628a2a6af5d4"
      },
      "execution_count": 33,
      "outputs": [
        {
          "output_type": "execute_result",
          "data": {
            "text/plain": [
              "('gender', 'Male')"
            ]
          },
          "metadata": {},
          "execution_count": 33
        }
      ]
    },
    {
      "cell_type": "code",
      "source": [
        "my_dict"
      ],
      "metadata": {
        "colab": {
          "base_uri": "https://localhost:8080/"
        },
        "id": "TU_fVhKt_7bV",
        "outputId": "8e836663-6a58-4441-c830-1d44da9d90e7"
      },
      "execution_count": 34,
      "outputs": [
        {
          "output_type": "execute_result",
          "data": {
            "text/plain": [
              "{'Age': 33, 'City': 'Nagpur'}"
            ]
          },
          "metadata": {},
          "execution_count": 34
        }
      ]
    },
    {
      "cell_type": "code",
      "source": [
        "#nested dictionarry"
      ],
      "metadata": {
        "id": "-vz2cfRU_9uZ"
      },
      "execution_count": 35,
      "outputs": []
    },
    {
      "cell_type": "code",
      "source": [
        "student = {\n",
        "    \"student1\":{\"name\":\"Tushar\", \"Age\":33},\n",
        "    \"Student2\":{\"name\":\"Parth\", \"Age\":26}\n",
        "}"
      ],
      "metadata": {
        "id": "m6cSDAx_AK1L"
      },
      "execution_count": 36,
      "outputs": []
    },
    {
      "cell_type": "code",
      "source": [
        "student"
      ],
      "metadata": {
        "colab": {
          "base_uri": "https://localhost:8080/"
        },
        "id": "TzlkVOnMAYYn",
        "outputId": "7e3d13d1-b491-458b-d419-97d6a4a561b7"
      },
      "execution_count": 37,
      "outputs": [
        {
          "output_type": "execute_result",
          "data": {
            "text/plain": [
              "{'student1': {'name': 'Tushar', 'Age': 33},\n",
              " 'Student2': {'name': 'Parth', 'Age': 26}}"
            ]
          },
          "metadata": {},
          "execution_count": 37
        }
      ]
    },
    {
      "cell_type": "markdown",
      "source": [
        "#loops\n",
        "\n",
        "- For Loop\n",
        "\n",
        "- While loop"
      ],
      "metadata": {
        "id": "y2hvSk3LAnXy"
      }
    },
    {
      "cell_type": "code",
      "source": [
        "#for loop for list"
      ],
      "metadata": {
        "id": "pjeyzq7nAaUl"
      },
      "execution_count": 38,
      "outputs": []
    },
    {
      "cell_type": "code",
      "source": [
        "fruits =[\"apple\", \"banana\", \"cherry\", \"orange\"]"
      ],
      "metadata": {
        "id": "CKIdelTTA66R"
      },
      "execution_count": 39,
      "outputs": []
    },
    {
      "cell_type": "code",
      "source": [
        "#in keywords always use for iteration -\n",
        "#iteration mean one by one accessing the elements\n",
        "for i in fruits:\n",
        "  print(i)"
      ],
      "metadata": {
        "colab": {
          "base_uri": "https://localhost:8080/"
        },
        "id": "brqPTG6LBAIU",
        "outputId": "ad5c13a0-ad33-4b2b-e711-fb90c4c3d55d"
      },
      "execution_count": 44,
      "outputs": [
        {
          "output_type": "stream",
          "name": "stdout",
          "text": [
            "apple\n",
            "banana\n",
            "cherry\n",
            "orange\n"
          ]
        }
      ]
    },
    {
      "cell_type": "code",
      "source": [
        "for i in range(1,11):\n",
        "  print(i)"
      ],
      "metadata": {
        "colab": {
          "base_uri": "https://localhost:8080/"
        },
        "id": "VY-xMDulBQ2Z",
        "outputId": "a1cf4781-bd0e-45e2-8815-a7dcc8dabf54"
      },
      "execution_count": 45,
      "outputs": [
        {
          "output_type": "stream",
          "name": "stdout",
          "text": [
            "1\n",
            "2\n",
            "3\n",
            "4\n",
            "5\n",
            "6\n",
            "7\n",
            "8\n",
            "9\n",
            "10\n"
          ]
        }
      ]
    },
    {
      "cell_type": "code",
      "source": [
        "total = 0\n",
        "for i in range(1, 101):\n",
        "  total +=i\n",
        "  #total = total + i\n",
        "\n",
        "print(total)"
      ],
      "metadata": {
        "colab": {
          "base_uri": "https://localhost:8080/"
        },
        "id": "HpA3EhwpBzGh",
        "outputId": "00334435-973c-45f8-b90d-9ab5e3a3cdf0"
      },
      "execution_count": 46,
      "outputs": [
        {
          "output_type": "stream",
          "name": "stdout",
          "text": [
            "5050\n"
          ]
        }
      ]
    },
    {
      "cell_type": "code",
      "source": [
        "num = 5\n",
        "for i in range(1,11):\n",
        "  print(f\"{num} * {i} = {num*i}\")"
      ],
      "metadata": {
        "colab": {
          "base_uri": "https://localhost:8080/"
        },
        "id": "E4Qke0QlCFJR",
        "outputId": "ff05e957-9216-40b1-c020-978c5bb30846"
      },
      "execution_count": 48,
      "outputs": [
        {
          "output_type": "stream",
          "name": "stdout",
          "text": [
            "5 * 1 = 5\n",
            "5 * 2 = 10\n",
            "5 * 3 = 15\n",
            "5 * 4 = 20\n",
            "5 * 5 = 25\n",
            "5 * 6 = 30\n",
            "5 * 7 = 35\n",
            "5 * 8 = 40\n",
            "5 * 9 = 45\n",
            "5 * 10 = 50\n"
          ]
        }
      ]
    },
    {
      "cell_type": "code",
      "source": [
        "for i in range(1,6):\n",
        "  print(\"*\"*i)"
      ],
      "metadata": {
        "colab": {
          "base_uri": "https://localhost:8080/"
        },
        "id": "HK6qZq7SCZpF",
        "outputId": "8c7c2300-5119-4ec5-dc33-4f4388064f38"
      },
      "execution_count": 49,
      "outputs": [
        {
          "output_type": "stream",
          "name": "stdout",
          "text": [
            "*\n",
            "**\n",
            "***\n",
            "****\n",
            "*****\n"
          ]
        }
      ]
    },
    {
      "cell_type": "code",
      "source": [
        "#nested lop for 1 to 3 tabel\n",
        "for i in range(1,4):\n",
        "  for j in range(1,6):\n",
        "    print(f\"{i}*{j} = {i*j}\")\n",
        "  print()"
      ],
      "metadata": {
        "colab": {
          "base_uri": "https://localhost:8080/"
        },
        "id": "b1-SIzAqC_bR",
        "outputId": "f68fd60d-2562-430e-8002-e458bf9c1578"
      },
      "execution_count": 52,
      "outputs": [
        {
          "output_type": "stream",
          "name": "stdout",
          "text": [
            "1*1 = 1\n",
            "1*2 = 2\n",
            "1*3 = 3\n",
            "1*4 = 4\n",
            "1*5 = 5\n",
            "\n",
            "2*1 = 2\n",
            "2*2 = 4\n",
            "2*3 = 6\n",
            "2*4 = 8\n",
            "2*5 = 10\n",
            "\n",
            "3*1 = 3\n",
            "3*2 = 6\n",
            "3*3 = 9\n",
            "3*4 = 12\n",
            "3*5 = 15\n",
            "\n"
          ]
        }
      ]
    },
    {
      "cell_type": "code",
      "source": [
        "a = 2\n",
        "b = 3\n",
        "print(\"the mutiplication of a dn b \" ,a * b)\n",
        "print(f\"The multplication of a dn b is {a * b}\")"
      ],
      "metadata": {
        "colab": {
          "base_uri": "https://localhost:8080/"
        },
        "id": "ezb2fkrEDbo-",
        "outputId": "7be06320-9aa5-4de6-f859-7b585db184b0"
      },
      "execution_count": 58,
      "outputs": [
        {
          "output_type": "stream",
          "name": "stdout",
          "text": [
            "the mutiplication of a dn b  6\n",
            "The multplication of a dn b is 6\n"
          ]
        }
      ]
    },
    {
      "cell_type": "markdown",
      "source": [
        "# While loop"
      ],
      "metadata": {
        "id": "UDUvHNNEEOeI"
      }
    },
    {
      "cell_type": "code",
      "source": [
        "i = 1\n",
        "while i <= 5:\n",
        "  print(i)\n",
        "  i = i + 1\n",
        "  #i += 1"
      ],
      "metadata": {
        "colab": {
          "base_uri": "https://localhost:8080/"
        },
        "id": "g_G0fCOiDxWs",
        "outputId": "f63e0105-e086-4ade-b286-b3fa4cfa03ca"
      },
      "execution_count": 59,
      "outputs": [
        {
          "output_type": "stream",
          "name": "stdout",
          "text": [
            "1\n",
            "2\n",
            "3\n",
            "4\n",
            "5\n"
          ]
        }
      ]
    },
    {
      "cell_type": "code",
      "source": [
        "#reverse the number\n",
        "\n",
        "num = 123\n",
        "rev = 0\n",
        "while num >0:\n",
        "  rev = rev *10 +num % 10\n",
        "  num = num // 10\n",
        "print(rev)"
      ],
      "metadata": {
        "colab": {
          "base_uri": "https://localhost:8080/"
        },
        "id": "-r-uIoX4EaoC",
        "outputId": "3ee32036-9b92-498a-8948-1a4ee7c00f4a"
      },
      "execution_count": 64,
      "outputs": [
        {
          "output_type": "stream",
          "name": "stdout",
          "text": [
            "321\n"
          ]
        }
      ]
    },
    {
      "cell_type": "code",
      "source": [
        "num = 123"
      ],
      "metadata": {
        "id": "sPewyFIrE-8g"
      },
      "execution_count": 61,
      "outputs": []
    },
    {
      "cell_type": "code",
      "source": [
        "num % 10"
      ],
      "metadata": {
        "colab": {
          "base_uri": "https://localhost:8080/"
        },
        "id": "0leua0nEFAmq",
        "outputId": "6a537c2d-8f43-4aba-e2a2-cb4625c9ddc5"
      },
      "execution_count": 62,
      "outputs": [
        {
          "output_type": "execute_result",
          "data": {
            "text/plain": [
              "3"
            ]
          },
          "metadata": {},
          "execution_count": 62
        }
      ]
    },
    {
      "cell_type": "code",
      "source": [
        "num // 10"
      ],
      "metadata": {
        "colab": {
          "base_uri": "https://localhost:8080/"
        },
        "id": "N35A59QPFFEg",
        "outputId": "27d5bfea-aafd-43e2-9c0c-dfa26b1b2356"
      },
      "execution_count": 63,
      "outputs": [
        {
          "output_type": "execute_result",
          "data": {
            "text/plain": [
              "12"
            ]
          },
          "metadata": {},
          "execution_count": 63
        }
      ]
    },
    {
      "cell_type": "markdown",
      "source": [
        "#Comperhension"
      ],
      "metadata": {
        "id": "le3orK-tGvSn"
      }
    },
    {
      "cell_type": "code",
      "source": [
        "#square 1 to 5"
      ],
      "metadata": {
        "id": "fobtsqnpGu8O"
      },
      "execution_count": 65,
      "outputs": []
    },
    {
      "cell_type": "code",
      "source": [
        "sq = []\n",
        "for i in range(1,6):\n",
        "  sq.append(i ** 2)\n",
        "\n",
        "print(sq)"
      ],
      "metadata": {
        "colab": {
          "base_uri": "https://localhost:8080/"
        },
        "id": "Z7t05x_HFIci",
        "outputId": "2b0c41e3-ed0e-4441-ca36-bf87523e2203"
      },
      "execution_count": 67,
      "outputs": [
        {
          "output_type": "stream",
          "name": "stdout",
          "text": [
            "[1, 4, 9, 16, 25]\n"
          ]
        }
      ]
    },
    {
      "cell_type": "code",
      "source": [
        "#list comperhension\n",
        "sq = [x ** 2 for x in range(1,6)]"
      ],
      "metadata": {
        "id": "Q3DnnXrxHMm_"
      },
      "execution_count": 68,
      "outputs": []
    },
    {
      "cell_type": "code",
      "source": [
        "sq"
      ],
      "metadata": {
        "colab": {
          "base_uri": "https://localhost:8080/"
        },
        "id": "aq-6s0rjH05Y",
        "outputId": "dbd55cb2-44f1-4334-d946-5a081f3dae14"
      },
      "execution_count": 69,
      "outputs": [
        {
          "output_type": "execute_result",
          "data": {
            "text/plain": [
              "[1, 4, 9, 16, 25]"
            ]
          },
          "metadata": {},
          "execution_count": 69
        }
      ]
    },
    {
      "cell_type": "code",
      "source": [
        "#set comperhenstin\n",
        "sq = {x ** 2 for x in range(1,6)}"
      ],
      "metadata": {
        "id": "N7fyxdkDH1aA"
      },
      "execution_count": 72,
      "outputs": []
    },
    {
      "cell_type": "code",
      "source": [
        "sq"
      ],
      "metadata": {
        "colab": {
          "base_uri": "https://localhost:8080/"
        },
        "id": "0ASsdAxzH7ud",
        "outputId": "0d649f12-e49f-4909-a3f9-ad593b048b45"
      },
      "execution_count": 71,
      "outputs": [
        {
          "output_type": "execute_result",
          "data": {
            "text/plain": [
              "{1, 4, 9, 16, 25}"
            ]
          },
          "metadata": {},
          "execution_count": 71
        }
      ]
    },
    {
      "cell_type": "code",
      "source": [
        "#dict compehension\n",
        "sq = {x:x ** 2 for x in range(1,6)}"
      ],
      "metadata": {
        "id": "-zYh1vWwH8Xd"
      },
      "execution_count": 75,
      "outputs": []
    },
    {
      "cell_type": "code",
      "source": [
        "sq"
      ],
      "metadata": {
        "colab": {
          "base_uri": "https://localhost:8080/"
        },
        "id": "tv8KYYmZIIKe",
        "outputId": "9b0ef852-d80f-4a79-c51c-9ba8a0d11172"
      },
      "execution_count": 76,
      "outputs": [
        {
          "output_type": "execute_result",
          "data": {
            "text/plain": [
              "{1: 1, 2: 4, 3: 9, 4: 16, 5: 25}"
            ]
          },
          "metadata": {},
          "execution_count": 76
        }
      ]
    },
    {
      "cell_type": "code",
      "source": [
        "#tuple comperhension\n",
        "sq = (x ** 2 for x in range(1,6))\n"
      ],
      "metadata": {
        "id": "7kzTGcIUIImV"
      },
      "execution_count": 89,
      "outputs": []
    },
    {
      "cell_type": "code",
      "source": [
        "sq"
      ],
      "metadata": {
        "colab": {
          "base_uri": "https://localhost:8080/"
        },
        "id": "WQ5RlKTuJRrI",
        "outputId": "6eecb9aa-455e-4c31-e7bc-8e57b4995614"
      },
      "execution_count": 90,
      "outputs": [
        {
          "output_type": "execute_result",
          "data": {
            "text/plain": [
              "<generator object <genexpr> at 0x7c91659c8d40>"
            ]
          },
          "metadata": {},
          "execution_count": 90
        }
      ]
    },
    {
      "cell_type": "code",
      "source": [
        "tuple(sq)"
      ],
      "metadata": {
        "colab": {
          "base_uri": "https://localhost:8080/"
        },
        "id": "vmV4J0yHIVaZ",
        "outputId": "aeef09a7-991a-47f8-aa93-82936ffba7d0"
      },
      "execution_count": 87,
      "outputs": [
        {
          "output_type": "execute_result",
          "data": {
            "text/plain": [
              "(1, 4, 9, 16, 25)"
            ]
          },
          "metadata": {},
          "execution_count": 87
        }
      ]
    },
    {
      "cell_type": "code",
      "source": [
        "print(sq)"
      ],
      "metadata": {
        "colab": {
          "base_uri": "https://localhost:8080/"
        },
        "id": "3c6dXbf_IV1M",
        "outputId": "455bf5b1-c6f5-44ef-d6a2-15061bdf9cf5"
      },
      "execution_count": 91,
      "outputs": [
        {
          "output_type": "stream",
          "name": "stdout",
          "text": [
            "<generator object <genexpr> at 0x7c91659c8d40>\n"
          ]
        }
      ]
    },
    {
      "cell_type": "markdown",
      "source": [
        "#coditional statement\n",
        "- if else\n",
        "- if elif else\n"
      ],
      "metadata": {
        "id": "Bry0Onw3JlAR"
      }
    },
    {
      "cell_type": "code",
      "source": [
        "age = 18\n",
        "if age >= 18:\n",
        "  print(\"You are eligible for voting\")\n",
        "else:\n",
        "  print(\"not eligible\")"
      ],
      "metadata": {
        "colab": {
          "base_uri": "https://localhost:8080/"
        },
        "id": "3IXnybdVJjsz",
        "outputId": "aaa02fa0-3f34-4158-e31a-3d2fbf336d6c"
      },
      "execution_count": 92,
      "outputs": [
        {
          "output_type": "stream",
          "name": "stdout",
          "text": [
            "You are eligible for voting\n"
          ]
        }
      ]
    },
    {
      "cell_type": "code",
      "source": [
        "age = input(\"enter you age:- \")\n",
        "age = 18\n",
        "if age >= 18:\n",
        "  print(\"You are eligible for voting\")\n",
        "else:\n",
        "  print(\"not eligible\")"
      ],
      "metadata": {
        "colab": {
          "base_uri": "https://localhost:8080/"
        },
        "id": "J03BZ-RxJBhj",
        "outputId": "cee7e408-80f2-48b4-fc83-91641908859a"
      },
      "execution_count": 93,
      "outputs": [
        {
          "output_type": "stream",
          "name": "stdout",
          "text": [
            "enter you age:- 45.5\n",
            "You are eligible for voting\n"
          ]
        }
      ]
    },
    {
      "cell_type": "code",
      "source": [
        "username = \"admin\"\n",
        "password = 123456\n",
        "\n",
        "user = str(input(\"Enter your username:-\"))\n",
        "passw = int(input(\"enter yuur password:-\"))\n",
        "\n",
        "if user == username:\n",
        "  if passw == password:\n",
        "    print(\"Login Successful\")\n",
        "  else:\n",
        "    print(\"invalid password\")\n",
        "else:\n",
        "  print(\"invalid username\")"
      ],
      "metadata": {
        "colab": {
          "base_uri": "https://localhost:8080/"
        },
        "id": "Jqo9zQ2gJ9xm",
        "outputId": "baa2ae47-3c31-45cf-c643-11316777c66b"
      },
      "execution_count": 97,
      "outputs": [
        {
          "output_type": "stream",
          "name": "stdout",
          "text": [
            "Enter your username:-admin\n",
            "enter yuur password:-123456\n",
            "Login Successful\n"
          ]
        }
      ]
    },
    {
      "cell_type": "code",
      "source": [
        "marks = 85\n",
        "if marks >= 90:\n",
        "  print(\"grade A\")\n",
        "elif marks >= 80:\n",
        "  print(\"grade B\")\n",
        "else:\n",
        "  print(\"grade C\")\n"
      ],
      "metadata": {
        "colab": {
          "base_uri": "https://localhost:8080/"
        },
        "id": "G3rfQaTELFMl",
        "outputId": "72161e4b-dd8d-4578-b12f-9c26f9e07ab3"
      },
      "execution_count": 100,
      "outputs": [
        {
          "output_type": "stream",
          "name": "stdout",
          "text": [
            "grade B\n"
          ]
        }
      ]
    },
    {
      "cell_type": "markdown",
      "source": [
        "#comperhension"
      ],
      "metadata": {
        "id": "fshuDXrXLzLt"
      }
    },
    {
      "cell_type": "code",
      "source": [
        "even_number = [x for x in range (1,11) if x % 2 == 0]"
      ],
      "metadata": {
        "id": "699iyXMvLrCa"
      },
      "execution_count": 101,
      "outputs": []
    },
    {
      "cell_type": "code",
      "source": [
        "even_number"
      ],
      "metadata": {
        "colab": {
          "base_uri": "https://localhost:8080/"
        },
        "id": "SvTozJomL-Rr",
        "outputId": "a3a5faf0-e7bb-4265-bf48-64b65faf304d"
      },
      "execution_count": 102,
      "outputs": [
        {
          "output_type": "execute_result",
          "data": {
            "text/plain": [
              "[2, 4, 6, 8, 10]"
            ]
          },
          "metadata": {},
          "execution_count": 102
        }
      ]
    },
    {
      "cell_type": "code",
      "source": [],
      "metadata": {
        "id": "jETFbJfiL_VL"
      },
      "execution_count": null,
      "outputs": []
    }
  ]
}
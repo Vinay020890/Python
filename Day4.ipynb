{
  "nbformat": 4,
  "nbformat_minor": 0,
  "metadata": {
    "colab": {
      "provenance": []
    },
    "kernelspec": {
      "name": "python3",
      "display_name": "Python 3"
    },
    "language_info": {
      "name": "python"
    }
  },
  "cells": [
    {
      "cell_type": "markdown",
      "source": [
        "# Function\n",
        "\n",
        "A function is a block of code which only runs when it called."
      ],
      "metadata": {
        "id": "vipP09UxZs15"
      }
    },
    {
      "cell_type": "markdown",
      "source": [
        "#build in functions"
      ],
      "metadata": {
        "id": "kTqSlvQlaCMM"
      }
    },
    {
      "cell_type": "code",
      "execution_count": 4,
      "metadata": {
        "colab": {
          "base_uri": "https://localhost:8080/"
        },
        "id": "OEVp19cBYoMo",
        "outputId": "298cc1c4-0860-44c5-ed81-d2b1ae703c0e"
      },
      "outputs": [
        {
          "output_type": "stream",
          "name": "stdout",
          "text": [
            "Hello welcome to Dream With Data\n"
          ]
        }
      ],
      "source": [
        "print(\"Hello welcome to Dream With Data\")"
      ]
    },
    {
      "cell_type": "code",
      "source": [
        "print('hello world')"
      ],
      "metadata": {
        "colab": {
          "base_uri": "https://localhost:8080/"
        },
        "id": "2A869D2uZk75",
        "outputId": "8a61babc-1017-4f36-ed19-90cc786f4b10"
      },
      "execution_count": 6,
      "outputs": [
        {
          "output_type": "stream",
          "name": "stdout",
          "text": [
            "hello world\n"
          ]
        }
      ]
    },
    {
      "cell_type": "code",
      "source": [
        "len(\"hello\")   #length of string"
      ],
      "metadata": {
        "colab": {
          "base_uri": "https://localhost:8080/"
        },
        "id": "YD4ot2oBZpAQ",
        "outputId": "48714fb6-f373-4ad7-ae84-b6ecfc6449bf"
      },
      "execution_count": 8,
      "outputs": [
        {
          "output_type": "execute_result",
          "data": {
            "text/plain": [
              "5"
            ]
          },
          "metadata": {},
          "execution_count": 8
        }
      ]
    },
    {
      "cell_type": "code",
      "source": [
        "type(5)"
      ],
      "metadata": {
        "colab": {
          "base_uri": "https://localhost:8080/"
        },
        "id": "wTQEbEJ_ama_",
        "outputId": "4f0ebd2a-b206-41c7-d290-29f5a2fe1b64"
      },
      "execution_count": 9,
      "outputs": [
        {
          "output_type": "execute_result",
          "data": {
            "text/plain": [
              "int"
            ]
          },
          "metadata": {},
          "execution_count": 9
        }
      ]
    },
    {
      "cell_type": "code",
      "source": [
        "int(45.6)"
      ],
      "metadata": {
        "colab": {
          "base_uri": "https://localhost:8080/"
        },
        "id": "LAmjd50IawOY",
        "outputId": "6b402118-025a-48af-a45a-f71e7855ef4f"
      },
      "execution_count": 10,
      "outputs": [
        {
          "output_type": "execute_result",
          "data": {
            "text/plain": [
              "45"
            ]
          },
          "metadata": {},
          "execution_count": 10
        }
      ]
    },
    {
      "cell_type": "code",
      "source": [
        "float(45)"
      ],
      "metadata": {
        "colab": {
          "base_uri": "https://localhost:8080/"
        },
        "id": "rEptaw6ea0hQ",
        "outputId": "54cc9fbc-6721-476b-f48c-ac9a1dcfd9b0"
      },
      "execution_count": 14,
      "outputs": [
        {
          "output_type": "execute_result",
          "data": {
            "text/plain": [
              "45.0"
            ]
          },
          "metadata": {},
          "execution_count": 14
        }
      ]
    },
    {
      "cell_type": "code",
      "source": [
        "str(456123)"
      ],
      "metadata": {
        "colab": {
          "base_uri": "https://localhost:8080/",
          "height": 36
        },
        "id": "2Tu0VLeta2Q_",
        "outputId": "a80544d8-f0d9-465d-9a44-382ade3a9eb0"
      },
      "execution_count": 12,
      "outputs": [
        {
          "output_type": "execute_result",
          "data": {
            "text/plain": [
              "'456123'"
            ],
            "application/vnd.google.colaboratory.intrinsic+json": {
              "type": "string"
            }
          },
          "metadata": {},
          "execution_count": 12
        }
      ]
    },
    {
      "cell_type": "code",
      "source": [
        "name = input(\"Enter your name :- \")"
      ],
      "metadata": {
        "colab": {
          "base_uri": "https://localhost:8080/"
        },
        "id": "bpAE2HW4a5HQ",
        "outputId": "707b8bb4-ee91-4c83-a18e-49f5f00370d0"
      },
      "execution_count": 15,
      "outputs": [
        {
          "name": "stdout",
          "output_type": "stream",
          "text": [
            "Enter your name :- tushar\n"
          ]
        }
      ]
    },
    {
      "cell_type": "code",
      "source": [
        "age = int(input(\"enter your age :- \"))"
      ],
      "metadata": {
        "colab": {
          "base_uri": "https://localhost:8080/"
        },
        "id": "qG-9cGRhbVIt",
        "outputId": "3d85ffa7-5aa1-4200-f59a-686835de2e19"
      },
      "execution_count": 22,
      "outputs": [
        {
          "name": "stdout",
          "output_type": "stream",
          "text": [
            "enter your age :- 33\n"
          ]
        }
      ]
    },
    {
      "cell_type": "code",
      "source": [
        "print(name)"
      ],
      "metadata": {
        "colab": {
          "base_uri": "https://localhost:8080/"
        },
        "id": "hI4UvZ-fbh6r",
        "outputId": "b3e05084-a3ac-42c3-c983-9f7cfc967bda"
      },
      "execution_count": 19,
      "outputs": [
        {
          "output_type": "stream",
          "name": "stdout",
          "text": [
            "tushar\n"
          ]
        }
      ]
    },
    {
      "cell_type": "code",
      "source": [
        "name"
      ],
      "metadata": {
        "colab": {
          "base_uri": "https://localhost:8080/",
          "height": 36
        },
        "id": "_TCfbQyjbuzw",
        "outputId": "503e3196-ebaa-48de-ba53-ba7dc964bbbf"
      },
      "execution_count": 20,
      "outputs": [
        {
          "output_type": "execute_result",
          "data": {
            "text/plain": [
              "'tushar'"
            ],
            "application/vnd.google.colaboratory.intrinsic+json": {
              "type": "string"
            }
          },
          "metadata": {},
          "execution_count": 20
        }
      ]
    },
    {
      "cell_type": "code",
      "source": [
        "min([4,5,6])"
      ],
      "metadata": {
        "colab": {
          "base_uri": "https://localhost:8080/"
        },
        "id": "-nzFZ6L5bvrd",
        "outputId": "1de0065a-d1f9-4bf7-c159-cea855adcc97"
      },
      "execution_count": 26,
      "outputs": [
        {
          "output_type": "execute_result",
          "data": {
            "text/plain": [
              "4"
            ]
          },
          "metadata": {},
          "execution_count": 26
        }
      ]
    },
    {
      "cell_type": "code",
      "source": [
        "max([4,5,6,8])"
      ],
      "metadata": {
        "colab": {
          "base_uri": "https://localhost:8080/"
        },
        "id": "WJny4_jSce5c",
        "outputId": "47dfb5e4-7945-48ec-8863-01e7d84786b7"
      },
      "execution_count": 27,
      "outputs": [
        {
          "output_type": "execute_result",
          "data": {
            "text/plain": [
              "8"
            ]
          },
          "metadata": {},
          "execution_count": 27
        }
      ]
    },
    {
      "cell_type": "code",
      "source": [
        "sum([1,2,3,4,5,6])"
      ],
      "metadata": {
        "colab": {
          "base_uri": "https://localhost:8080/"
        },
        "id": "yzxlZ7Nyc1Q-",
        "outputId": "9d7bfaba-ddd5-46e6-ece1-a59eb7a6eace"
      },
      "execution_count": 29,
      "outputs": [
        {
          "output_type": "execute_result",
          "data": {
            "text/plain": [
              "21"
            ]
          },
          "metadata": {},
          "execution_count": 29
        }
      ]
    },
    {
      "cell_type": "code",
      "source": [
        "sorted([7,4,5,1,2,3,6,9,8,5,2,1,4])"
      ],
      "metadata": {
        "colab": {
          "base_uri": "https://localhost:8080/"
        },
        "id": "HAILeIDqc5is",
        "outputId": "5ab427c0-4e67-463b-e35c-5e4f60aa2fb2"
      },
      "execution_count": 30,
      "outputs": [
        {
          "output_type": "execute_result",
          "data": {
            "text/plain": [
              "[1, 1, 2, 2, 3, 4, 4, 5, 5, 6, 7, 8, 9]"
            ]
          },
          "metadata": {},
          "execution_count": 30
        }
      ]
    },
    {
      "cell_type": "code",
      "source": [
        "abs(-10)   #absolute values give us positive values only"
      ],
      "metadata": {
        "colab": {
          "base_uri": "https://localhost:8080/"
        },
        "id": "jnYsaP_IdJVA",
        "outputId": "81b268e7-b939-42b9-9058-7412d28a9092"
      },
      "execution_count": 31,
      "outputs": [
        {
          "output_type": "execute_result",
          "data": {
            "text/plain": [
              "10"
            ]
          },
          "metadata": {},
          "execution_count": 31
        }
      ]
    },
    {
      "cell_type": "markdown",
      "source": [
        "# user define functions\n",
        "\n",
        "- def keyword use for define the function name\n",
        "\n",
        "- syntax - def function name(callable values):\n",
        "\n",
        "- function name always in lowercase"
      ],
      "metadata": {
        "id": "EHfYXttwdkPK"
      }
    },
    {
      "cell_type": "code",
      "source": [
        "def greeting(name):\n",
        "  print(\"Good Morning\",name)"
      ],
      "metadata": {
        "id": "Oozqw2gQdU5-"
      },
      "execution_count": 42,
      "outputs": []
    },
    {
      "cell_type": "code",
      "source": [
        "greeting(\"Rahul\")"
      ],
      "metadata": {
        "colab": {
          "base_uri": "https://localhost:8080/"
        },
        "id": "TA-nWOY_eOhB",
        "outputId": "20d96c49-2166-4597-fa3d-eb559b187ddd"
      },
      "execution_count": 37,
      "outputs": [
        {
          "output_type": "stream",
          "name": "stdout",
          "text": [
            "Good Morning Rahul\n"
          ]
        }
      ]
    },
    {
      "cell_type": "code",
      "source": [
        "greeting(\"parth\")"
      ],
      "metadata": {
        "colab": {
          "base_uri": "https://localhost:8080/"
        },
        "id": "YBJoVdUKehJ8",
        "outputId": "142b2648-b679-4fd7-ce77-820794995af6"
      },
      "execution_count": 38,
      "outputs": [
        {
          "output_type": "stream",
          "name": "stdout",
          "text": [
            "Good Morning parth\n"
          ]
        }
      ]
    },
    {
      "cell_type": "code",
      "source": [
        "def square(num):\n",
        "  return num * num\n"
      ],
      "metadata": {
        "id": "KSV4ti0delJ0"
      },
      "execution_count": 43,
      "outputs": []
    },
    {
      "cell_type": "code",
      "source": [
        "square(4)"
      ],
      "metadata": {
        "colab": {
          "base_uri": "https://localhost:8080/"
        },
        "id": "Xyrtia8Cfjl0",
        "outputId": "3469025a-1f2e-4f4f-8bb0-c81eb0a579b4"
      },
      "execution_count": 44,
      "outputs": [
        {
          "output_type": "execute_result",
          "data": {
            "text/plain": [
              "16"
            ]
          },
          "metadata": {},
          "execution_count": 44
        }
      ]
    },
    {
      "cell_type": "code",
      "source": [
        "4 * 4"
      ],
      "metadata": {
        "colab": {
          "base_uri": "https://localhost:8080/"
        },
        "id": "Tv0kL_VjfloE",
        "outputId": "827163f8-f7b2-43db-995a-47aed6b81870"
      },
      "execution_count": 45,
      "outputs": [
        {
          "output_type": "execute_result",
          "data": {
            "text/plain": [
              "16"
            ]
          },
          "metadata": {},
          "execution_count": 45
        }
      ]
    },
    {
      "cell_type": "code",
      "source": [
        "#default parameter\n",
        "def greet(name = \"Guest\"):\n",
        "  print(\"Hello\", name)"
      ],
      "metadata": {
        "id": "bNCQtUDIfxC3"
      },
      "execution_count": 61,
      "outputs": []
    },
    {
      "cell_type": "code",
      "source": [
        "greet()"
      ],
      "metadata": {
        "colab": {
          "base_uri": "https://localhost:8080/"
        },
        "id": "ubcsZ_1JgBF7",
        "outputId": "fdb60b8e-1282-4d03-b453-5e3dac8b27cb"
      },
      "execution_count": 59,
      "outputs": [
        {
          "output_type": "stream",
          "name": "stdout",
          "text": [
            "Hello Guest\n"
          ]
        }
      ]
    },
    {
      "cell_type": "code",
      "source": [
        "greet(\"rahul\")"
      ],
      "metadata": {
        "colab": {
          "base_uri": "https://localhost:8080/"
        },
        "id": "wQ4SJmhOgL6L",
        "outputId": "c3acde18-b6e7-4c2a-a407-0cc7917c9dce"
      },
      "execution_count": 60,
      "outputs": [
        {
          "output_type": "stream",
          "name": "stdout",
          "text": [
            "Hello rahul\n"
          ]
        }
      ]
    },
    {
      "cell_type": "markdown",
      "source": [
        "#external functions"
      ],
      "metadata": {
        "id": "MQOf7kyPiJkp"
      }
    },
    {
      "cell_type": "code",
      "source": [
        "#importing library for use of external function\n",
        "import math"
      ],
      "metadata": {
        "id": "hEbVSuS4gXjl"
      },
      "execution_count": 68,
      "outputs": []
    },
    {
      "cell_type": "code",
      "source": [
        "math.sqrt(25)"
      ],
      "metadata": {
        "colab": {
          "base_uri": "https://localhost:8080/"
        },
        "id": "SXh3Ed2Ugzuq",
        "outputId": "0fc1322e-ef4c-4cad-d2b6-6e57e35b1335"
      },
      "execution_count": 63,
      "outputs": [
        {
          "output_type": "execute_result",
          "data": {
            "text/plain": [
              "5.0"
            ]
          },
          "metadata": {},
          "execution_count": 63
        }
      ]
    },
    {
      "cell_type": "code",
      "source": [
        "math.factorial(5)"
      ],
      "metadata": {
        "colab": {
          "base_uri": "https://localhost:8080/"
        },
        "id": "yxJLeAEUg2Xa",
        "outputId": "2ae87b8c-a49a-4c8d-c0ab-0c346a9883c1"
      },
      "execution_count": 64,
      "outputs": [
        {
          "output_type": "execute_result",
          "data": {
            "text/plain": [
              "120"
            ]
          },
          "metadata": {},
          "execution_count": 64
        }
      ]
    },
    {
      "cell_type": "code",
      "source": [
        "math.pi"
      ],
      "metadata": {
        "colab": {
          "base_uri": "https://localhost:8080/"
        },
        "id": "LOs0h4r7ih-9",
        "outputId": "ff33093a-0592-4b05-bb46-bf0d43f7b063"
      },
      "execution_count": 67,
      "outputs": [
        {
          "output_type": "execute_result",
          "data": {
            "text/plain": [
              "3.141592653589793"
            ]
          },
          "metadata": {},
          "execution_count": 67
        }
      ]
    },
    {
      "cell_type": "markdown",
      "source": [
        "# lambda / map/ filter\n",
        "\n",
        "- Anonymous function - function without name"
      ],
      "metadata": {
        "id": "-4D2o5Fkjcsy"
      }
    },
    {
      "cell_type": "code",
      "source": [
        "#syntax lambda argument : expression\n",
        "square = lambda x:x*x"
      ],
      "metadata": {
        "id": "b5-o8MXmimJE"
      },
      "execution_count": 89,
      "outputs": []
    },
    {
      "cell_type": "code",
      "source": [
        "square(5)"
      ],
      "metadata": {
        "colab": {
          "base_uri": "https://localhost:8080/"
        },
        "id": "eHm7n-0oj7Yi",
        "outputId": "3302764d-99b9-44e7-e674-acbab1cee820"
      },
      "execution_count": 91,
      "outputs": [
        {
          "output_type": "execute_result",
          "data": {
            "text/plain": [
              "25"
            ]
          },
          "metadata": {},
          "execution_count": 91
        }
      ]
    },
    {
      "cell_type": "code",
      "source": [
        "add = lambda a , b : a + b"
      ],
      "metadata": {
        "id": "xmrPGhkgkrqn"
      },
      "execution_count": 78,
      "outputs": []
    },
    {
      "cell_type": "code",
      "source": [
        "add(5,6)"
      ],
      "metadata": {
        "colab": {
          "base_uri": "https://localhost:8080/"
        },
        "id": "xSI3i47-kvrv",
        "outputId": "ca177da5-4aa6-4b33-dd38-2cbf7d85c0bf"
      },
      "execution_count": 79,
      "outputs": [
        {
          "output_type": "execute_result",
          "data": {
            "text/plain": [
              "11"
            ]
          },
          "metadata": {},
          "execution_count": 79
        }
      ]
    },
    {
      "cell_type": "code",
      "source": [
        "add(7,8)"
      ],
      "metadata": {
        "colab": {
          "base_uri": "https://localhost:8080/"
        },
        "id": "CyDq94LIlL2C",
        "outputId": "b82ec93d-a35e-42e1-a307-0333df7bda5c"
      },
      "execution_count": 82,
      "outputs": [
        {
          "output_type": "execute_result",
          "data": {
            "text/plain": [
              "15"
            ]
          },
          "metadata": {},
          "execution_count": 82
        }
      ]
    },
    {
      "cell_type": "code",
      "source": [
        "#one line ccomments"
      ],
      "metadata": {
        "id": "TVd7-0h5j93i"
      },
      "execution_count": 74,
      "outputs": []
    },
    {
      "cell_type": "code",
      "source": [
        "''' this is\n",
        "2\n",
        "line\n",
        "comment\n",
        "'''"
      ],
      "metadata": {
        "colab": {
          "base_uri": "https://localhost:8080/",
          "height": 36
        },
        "id": "H3UVidf3kQuy",
        "outputId": "a28134cb-bff6-40b4-bed9-99ee93457716"
      },
      "execution_count": 75,
      "outputs": [
        {
          "output_type": "execute_result",
          "data": {
            "text/plain": [
              "' this is\\n2\\nline\\ncomment\\n'"
            ],
            "application/vnd.google.colaboratory.intrinsic+json": {
              "type": "string"
            }
          },
          "metadata": {},
          "execution_count": 75
        }
      ]
    },
    {
      "cell_type": "code",
      "source": [
        "nums = [1,2,3,4,5,6,7,8,9]"
      ],
      "metadata": {
        "id": "E10IahqRkUPU"
      },
      "execution_count": 86,
      "outputs": []
    },
    {
      "cell_type": "code",
      "source": [
        "#map() - it applies a function to each items in list"
      ],
      "metadata": {
        "id": "BZt3e-7wli3X"
      },
      "execution_count": 88,
      "outputs": []
    },
    {
      "cell_type": "code",
      "source": [
        "square = list(map(lambda x : x * x , nums))"
      ],
      "metadata": {
        "id": "1QOfSSIilj3i"
      },
      "execution_count": 92,
      "outputs": []
    },
    {
      "cell_type": "code",
      "source": [
        "square"
      ],
      "metadata": {
        "colab": {
          "base_uri": "https://localhost:8080/"
        },
        "id": "kb11JyVhm54J",
        "outputId": "0e5ef881-e02e-4d45-e134-096695f0e1d9"
      },
      "execution_count": 93,
      "outputs": [
        {
          "output_type": "execute_result",
          "data": {
            "text/plain": [
              "[1, 4, 9, 16, 25, 36, 49, 64, 81]"
            ]
          },
          "metadata": {},
          "execution_count": 93
        }
      ]
    },
    {
      "cell_type": "code",
      "source": [
        "name = \"Tushar\""
      ],
      "metadata": {
        "id": "HKWUkrREm9Q8"
      },
      "execution_count": 94,
      "outputs": []
    },
    {
      "cell_type": "code",
      "source": [
        "name"
      ],
      "metadata": {
        "colab": {
          "base_uri": "https://localhost:8080/",
          "height": 36
        },
        "id": "kjLfZPdUnsVh",
        "outputId": "30f80e37-d9f4-4f47-e102-113697e88162"
      },
      "execution_count": 95,
      "outputs": [
        {
          "output_type": "execute_result",
          "data": {
            "text/plain": [
              "'Tushar'"
            ],
            "application/vnd.google.colaboratory.intrinsic+json": {
              "type": "string"
            }
          },
          "metadata": {},
          "execution_count": 95
        }
      ]
    },
    {
      "cell_type": "code",
      "source": [
        "# () - paranthesis\n",
        "# [] - square braces\n",
        "# {} - curly braces"
      ],
      "metadata": {
        "id": "y1f1hXd2nuSa"
      },
      "execution_count": 96,
      "outputs": []
    },
    {
      "cell_type": "code",
      "source": [
        "# filter()-  filter the items with condition"
      ],
      "metadata": {
        "id": "3OMsUCZrn5C7"
      },
      "execution_count": 98,
      "outputs": []
    },
    {
      "cell_type": "code",
      "source": [
        "number = [1,2,3,4,5,6]"
      ],
      "metadata": {
        "id": "CgodwHb1oBr5"
      },
      "execution_count": 99,
      "outputs": []
    },
    {
      "cell_type": "code",
      "source": [
        "even_num = []\n",
        "for i in number:\n",
        "  if i % 2 == 0:\n",
        "    even_num.append(i)\n",
        "\n",
        "print(even_num)"
      ],
      "metadata": {
        "colab": {
          "base_uri": "https://localhost:8080/"
        },
        "id": "7U8Ve-0eoeI6",
        "outputId": "088284dc-4f53-4c25-9957-694420dc93e3"
      },
      "execution_count": 103,
      "outputs": [
        {
          "output_type": "stream",
          "name": "stdout",
          "text": [
            "[2, 4, 6]\n"
          ]
        }
      ]
    },
    {
      "cell_type": "code",
      "source": [
        "even_number = list(filter(lambda x : x % 2 == 0, number))"
      ],
      "metadata": {
        "id": "yGKoy3L9pUsZ"
      },
      "execution_count": 104,
      "outputs": []
    },
    {
      "cell_type": "code",
      "source": [
        "even_number"
      ],
      "metadata": {
        "colab": {
          "base_uri": "https://localhost:8080/"
        },
        "id": "bAP4FJTMpWUh",
        "outputId": "72f2e184-987a-482e-a32e-3abbe6878854"
      },
      "execution_count": 105,
      "outputs": [
        {
          "output_type": "execute_result",
          "data": {
            "text/plain": [
              "[2, 4, 6]"
            ]
          },
          "metadata": {},
          "execution_count": 105
        }
      ]
    },
    {
      "cell_type": "code",
      "source": [
        "even_number = list(map(lambda x : x * x, filter(lambda x : x % 2 == 0, number)))"
      ],
      "metadata": {
        "id": "PJoYTcscqDZY"
      },
      "execution_count": 132,
      "outputs": []
    },
    {
      "cell_type": "code",
      "source": [
        "even_number"
      ],
      "metadata": {
        "colab": {
          "base_uri": "https://localhost:8080/"
        },
        "id": "_hO4yB1lrAlU",
        "outputId": "8e4c4021-7441-42df-9486-07817e82e481"
      },
      "execution_count": 108,
      "outputs": [
        {
          "output_type": "execute_result",
          "data": {
            "text/plain": [
              "[4, 16, 36]"
            ]
          },
          "metadata": {},
          "execution_count": 108
        }
      ]
    },
    {
      "cell_type": "markdown",
      "source": [
        "- filter"
      ],
      "metadata": {
        "id": "tbxVwH2Srp-0"
      }
    },
    {
      "cell_type": "code",
      "source": [
        "# int\n",
        "a = 10"
      ],
      "metadata": {
        "id": "homl03UcrpGj"
      },
      "execution_count": 109,
      "outputs": []
    },
    {
      "cell_type": "code",
      "source": [
        "int(10)"
      ],
      "metadata": {
        "colab": {
          "base_uri": "https://localhost:8080/"
        },
        "id": "Ic00GgferDZw",
        "outputId": "ade74a1b-3e67-46ed-deda-8b8f97887bed"
      },
      "execution_count": 110,
      "outputs": [
        {
          "output_type": "execute_result",
          "data": {
            "text/plain": [
              "10"
            ]
          },
          "metadata": {},
          "execution_count": 110
        }
      ]
    },
    {
      "cell_type": "code",
      "source": [
        "float(10)"
      ],
      "metadata": {
        "colab": {
          "base_uri": "https://localhost:8080/"
        },
        "id": "gBuLkFe7r07s",
        "outputId": "7c8e30bd-f026-4da4-a192-bcd46bc2a8e9"
      },
      "execution_count": 111,
      "outputs": [
        {
          "output_type": "execute_result",
          "data": {
            "text/plain": [
              "10.0"
            ]
          },
          "metadata": {},
          "execution_count": 111
        }
      ]
    },
    {
      "cell_type": "code",
      "source": [
        "str(10)"
      ],
      "metadata": {
        "colab": {
          "base_uri": "https://localhost:8080/",
          "height": 36
        },
        "id": "bP9N1sd-r2nK",
        "outputId": "8d4a6116-a124-4edb-d170-0a909c8e7b9d"
      },
      "execution_count": 112,
      "outputs": [
        {
          "output_type": "execute_result",
          "data": {
            "text/plain": [
              "'10'"
            ],
            "application/vnd.google.colaboratory.intrinsic+json": {
              "type": "string"
            }
          },
          "metadata": {},
          "execution_count": 112
        }
      ]
    },
    {
      "cell_type": "code",
      "source": [
        "bool(1 == 2)"
      ],
      "metadata": {
        "colab": {
          "base_uri": "https://localhost:8080/"
        },
        "id": "DAR9mfhxr4Gu",
        "outputId": "b661070f-a1a1-45ae-cdca-d93cbfa5cf4f"
      },
      "execution_count": 114,
      "outputs": [
        {
          "output_type": "execute_result",
          "data": {
            "text/plain": [
              "False"
            ]
          },
          "metadata": {},
          "execution_count": 114
        }
      ]
    },
    {
      "cell_type": "code",
      "source": [
        "a = 3 + 5j"
      ],
      "metadata": {
        "id": "wOSMOQEUr9b5"
      },
      "execution_count": 115,
      "outputs": []
    },
    {
      "cell_type": "code",
      "source": [
        "type(a)"
      ],
      "metadata": {
        "colab": {
          "base_uri": "https://localhost:8080/"
        },
        "id": "HyEJM82LsCu1",
        "outputId": "2f084b61-ae06-4b67-bd13-9d221241f99b"
      },
      "execution_count": 116,
      "outputs": [
        {
          "output_type": "execute_result",
          "data": {
            "text/plain": [
              "complex"
            ]
          },
          "metadata": {},
          "execution_count": 116
        }
      ]
    },
    {
      "cell_type": "code",
      "source": [
        "a = None"
      ],
      "metadata": {
        "id": "Q1yEY4-KsF8O"
      },
      "execution_count": 117,
      "outputs": []
    },
    {
      "cell_type": "code",
      "source": [
        "type(a)"
      ],
      "metadata": {
        "colab": {
          "base_uri": "https://localhost:8080/"
        },
        "id": "_41xsEK-sII0",
        "outputId": "5031ca95-38ff-40c4-e615-160e30eafa36"
      },
      "execution_count": 119,
      "outputs": [
        {
          "output_type": "execute_result",
          "data": {
            "text/plain": [
              "NoneType"
            ]
          },
          "metadata": {},
          "execution_count": 119
        }
      ]
    },
    {
      "cell_type": "code",
      "source": [
        "a = [1,2,3,4,5,61]"
      ],
      "metadata": {
        "id": "XwQJ9irHsJyK"
      },
      "execution_count": 120,
      "outputs": []
    },
    {
      "cell_type": "code",
      "source": [
        "type(a)"
      ],
      "metadata": {
        "colab": {
          "base_uri": "https://localhost:8080/"
        },
        "id": "QdencOdCsQVA",
        "outputId": "541ca672-549d-4317-d5d1-c8013c66ac32"
      },
      "execution_count": 122,
      "outputs": [
        {
          "output_type": "execute_result",
          "data": {
            "text/plain": [
              "list"
            ]
          },
          "metadata": {},
          "execution_count": 122
        }
      ]
    },
    {
      "cell_type": "code",
      "source": [
        "tuple(a)"
      ],
      "metadata": {
        "colab": {
          "base_uri": "https://localhost:8080/"
        },
        "id": "q7ESE2_RsRLX",
        "outputId": "bd358164-4397-4c2d-ce68-16d92223febf"
      },
      "execution_count": 123,
      "outputs": [
        {
          "output_type": "execute_result",
          "data": {
            "text/plain": [
              "(1, 2, 3, 4, 5, 61)"
            ]
          },
          "metadata": {},
          "execution_count": 123
        }
      ]
    },
    {
      "cell_type": "code",
      "source": [
        "set(a)"
      ],
      "metadata": {
        "colab": {
          "base_uri": "https://localhost:8080/"
        },
        "id": "yOH07NCysVTa",
        "outputId": "606c2292-8076-41c1-b5fc-82e5bf3a720c"
      },
      "execution_count": 124,
      "outputs": [
        {
          "output_type": "execute_result",
          "data": {
            "text/plain": [
              "{1, 2, 3, 4, 5, 61}"
            ]
          },
          "metadata": {},
          "execution_count": 124
        }
      ]
    },
    {
      "cell_type": "code",
      "source": [
        "set = (4,6,5)"
      ],
      "metadata": {
        "id": "G83qSY_bsX2-"
      },
      "execution_count": 126,
      "outputs": []
    },
    {
      "cell_type": "code",
      "source": [
        "set"
      ],
      "metadata": {
        "colab": {
          "base_uri": "https://localhost:8080/"
        },
        "id": "8FhwR3WOsbIW",
        "outputId": "4d82f02a-92a6-4e2c-c043-a9c34c1be9bf"
      },
      "execution_count": 127,
      "outputs": [
        {
          "output_type": "execute_result",
          "data": {
            "text/plain": [
              "(4, 6, 5)"
            ]
          },
          "metadata": {},
          "execution_count": 127
        }
      ]
    },
    {
      "cell_type": "code",
      "source": [
        "list(set)"
      ],
      "metadata": {
        "colab": {
          "base_uri": "https://localhost:8080/"
        },
        "id": "Ti8OeGgwsh8y",
        "outputId": "e198124e-6030-48ac-bbf3-40b7b4548224"
      },
      "execution_count": 128,
      "outputs": [
        {
          "output_type": "execute_result",
          "data": {
            "text/plain": [
              "[4, 6, 5]"
            ]
          },
          "metadata": {},
          "execution_count": 128
        }
      ]
    },
    {
      "cell_type": "code",
      "source": [],
      "metadata": {
        "id": "xFRM7QhAsj_S"
      },
      "execution_count": null,
      "outputs": []
    }
  ]
}